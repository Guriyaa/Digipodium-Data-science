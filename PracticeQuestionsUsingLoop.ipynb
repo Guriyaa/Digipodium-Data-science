{
 "cells": [
  {
   "cell_type": "code",
   "execution_count": null,
   "metadata": {},
   "outputs": [],
   "source": [
    "# A program to print 1 to 10 using for loop\n",
    "for i in range(1,11):\n",
    "  print(i)"
   ]
  },
  {
   "cell_type": "code",
   "execution_count": 21,
   "metadata": {},
   "outputs": [
    {
     "name": "stdout",
     "output_type": "stream",
     "text": [
      " 8\n",
      " 16\n",
      " 24\n",
      " 32\n",
      " 40\n",
      " 48\n",
      " 56\n",
      " 64\n",
      " 72\n",
      " 80\n"
     ]
    }
   ],
   "source": [
    "# to print the multiplication table of a given number using a while loop\n",
    "\n",
    "number = int(input(\"Enter a number: \"))\n",
    "\n",
    "i = 1\n",
    "while i <= 10:\n",
    "    table = number * i\n",
    "    print(f\" {table}\")\n",
    "    i+= 1\n",
    "\n"
   ]
  },
  {
   "cell_type": "code",
   "execution_count": 30,
   "metadata": {},
   "outputs": [
    {
     "name": "stdout",
     "output_type": "stream",
     "text": [
      "Sum of even numbers between 1 and 100: 2550\n"
     ]
    }
   ],
   "source": [
    "#to find the sum of all even numbers between 1 and 100 using a for loop\n",
    "sum = 0\n",
    "for number in range(2, 101, 2):\n",
    "    sum += number\n",
    "print(\"Sum of even numbers between 1 and 100:\", sum)\n",
    "    \n",
    "\n",
    "    "
   ]
  },
  {
   "cell_type": "code",
   "execution_count": 32,
   "metadata": {},
   "outputs": [
    {
     "ename": "SyntaxError",
     "evalue": "f-string: invalid syntax. Perhaps you forgot a comma? (4201391525.py, line 4)",
     "output_type": "error",
     "traceback": [
      "\u001b[1;36m  Cell \u001b[1;32mIn[32], line 4\u001b[1;36m\u001b[0m\n\u001b[1;33m    print(f\"{it is a prime number}\")\u001b[0m\n\u001b[1;37m    ^\u001b[0m\n\u001b[1;31mSyntaxError\u001b[0m\u001b[1;31m:\u001b[0m f-string: invalid syntax. Perhaps you forgot a comma?\n"
     ]
    }
   ],
   "source": [
    " #to check if a given number is prime or not using a while loop\n",
    "num = int(input(\"Enter the number to check whether it is prome or not\"))\n",
    "while num %== 0:\n",
    "    print(f\"{it is a prime number}\")\n",
    "    break \n",
    "    print(f\"{The number is not prime}\")\n",
    "\n"
   ]
  },
  {
   "cell_type": "code",
   "execution_count": null,
   "metadata": {},
   "outputs": [],
   "source": []
  }
 ],
 "metadata": {
  "kernelspec": {
   "display_name": "base",
   "language": "python",
   "name": "python3"
  },
  "language_info": {
   "codemirror_mode": {
    "name": "ipython",
    "version": 3
   },
   "file_extension": ".py",
   "mimetype": "text/x-python",
   "name": "python",
   "nbconvert_exporter": "python",
   "pygments_lexer": "ipython3",
   "version": "3.10.10"
  },
  "orig_nbformat": 4
 },
 "nbformat": 4,
 "nbformat_minor": 2
}
