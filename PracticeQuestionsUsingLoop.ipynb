{
 "cells": [
  {
   "cell_type": "code",
   "execution_count": null,
   "metadata": {},
   "outputs": [],
   "source": [
    "# A program to print 1 to 10 using for loop\n",
    "for i in range(1,11):\n",
    "  print(i)"
   ]
  },
  {
   "cell_type": "code",
   "execution_count": 21,
   "metadata": {},
   "outputs": [
    {
     "name": "stdout",
     "output_type": "stream",
     "text": [
      " 8\n",
      " 16\n",
      " 24\n",
      " 32\n",
      " 40\n",
      " 48\n",
      " 56\n",
      " 64\n",
      " 72\n",
      " 80\n"
     ]
    }
   ],
   "source": [
    "# to print the multiplication table of a given number using a while loop\n",
    "\n",
    "number = int(input(\"Enter a number: \"))\n",
    "\n",
    "i = 1\n",
    "while i <= 10:\n",
    "    table = number * i\n",
    "    print(f\" {table}\")\n",
    "    i+= 1\n",
    "\n"
   ]
  },
  {
   "cell_type": "code",
   "execution_count": 30,
   "metadata": {},
   "outputs": [
    {
     "name": "stdout",
     "output_type": "stream",
     "text": [
      "Sum of even numbers between 1 and 100: 2550\n"
     ]
    }
   ],
   "source": [
    "#to find the sum of all even numbers between 1 and 100 using a for loop\n",
    "sum = 0\n",
    "for number in range(2, 101, 2):\n",
    "    sum += number\n",
    "print(\"Sum of even numbers between 1 and 100:\", sum)\n",
    "    \n",
    "\n",
    "    "
   ]
  },
  {
   "cell_type": "code",
   "execution_count": 2,
   "metadata": {},
   "outputs": [
    {
     "name": "stdout",
     "output_type": "stream",
     "text": [
      "Number is a Prime Number\n"
     ]
    }
   ],
   "source": [
    " #to check if a given number is prime or not using a while loop\n",
    "i=2\n",
    "num = int(input('Enter a number'))\n",
    "check=True\n",
    "\n",
    "while i < num:\n",
    "    if(num % i) == 0:\n",
    "        check = False\n",
    "    i = i+1\n",
    "    \n",
    "if check:\n",
    "    print('Number is a Prime Number')\n",
    "else:\n",
    "    print('Number  is not a Prime Number')\n"
   ]
  },
  {
   "cell_type": "code",
   "execution_count": 6,
   "metadata": {},
   "outputs": [
    {
     "name": "stdout",
     "output_type": "stream",
     "text": [
      "The fact of 7 is 5040\n"
     ]
    }
   ],
   "source": [
    "#a program to calculate the factorial of a number using a for loop.\n",
    "num = 7\n",
    "fact = 1\n",
    "\n",
    "for i in range(1,num + 1):\n",
    "    fact = fact*i\n",
    "print(\"The fact of\",num,\"is\",fact)"
   ]
  },
  {
   "cell_type": "code",
   "execution_count": 8,
   "metadata": {},
   "outputs": [
    {
     "name": "stdout",
     "output_type": "stream",
     "text": [
      "Fibonacci series is:  0 1 1 2 3 5 8 13 "
     ]
    }
   ],
   "source": [
    "#program to print the Fibonacci series up to a given limit using a while loop.\n",
    "n = int(input())\n",
    "a = 0\n",
    "b = 1\n",
    "sum = a + b\n",
    "count = 1\n",
    "print(\"Fibonacci series is: \", end=\" \")\n",
    "while (count <= n):\n",
    "\tcount += 1\n",
    "\tprint(a, end=\" \")\n",
    "\ta = b\n",
    "\tb = sum\n",
    "\tsum = a + b"
   ]
  },
  {
   "cell_type": "code",
   "execution_count": 11,
   "metadata": {},
   "outputs": [
    {
     "name": "stdout",
     "output_type": "stream",
     "text": [
      "Largest element present in given array: 75\n"
     ]
    }
   ],
   "source": [
    "#program to find the largest element in an array using a for loop.\n",
    " \n",
    "arr = [25, 11, 7, 75, 56];         \n",
    "max = arr[0];    \n",
    "for i in range(0, len(arr)):        \n",
    "   if(arr[i] > max):    \n",
    "       max = arr[i];    \n",
    "           \n",
    "print(\"Largest element present in given array: \" + str(max)); "
   ]
  },
  {
   "cell_type": "code",
   "execution_count": 20,
   "metadata": {},
   "outputs": [
    {
     "ename": "TypeError",
     "evalue": "must be str, not int",
     "output_type": "error",
     "traceback": [
      "\u001b[1;31m---------------------------------------------------------------------------\u001b[0m",
      "\u001b[1;31mTypeError\u001b[0m                                 Traceback (most recent call last)",
      "Cell \u001b[1;32mIn[20], line 9\u001b[0m\n\u001b[0;32m      7\u001b[0m     \u001b[39mprint\u001b[39m(s\u001b[39m.\u001b[39mindex(\u001b[39m1\u001b[39m))\n\u001b[0;32m      8\u001b[0m     \u001b[39mprint\u001b[39m(s\u001b[39m.\u001b[39mindex(\u001b[39m0\u001b[39m))\n\u001b[1;32m----> 9\u001b[0m \u001b[39mprint\u001b[39m(s\u001b[39m.\u001b[39;49mindex(\u001b[39m4\u001b[39;49m,\u001b[39m0\u001b[39;49m))\n",
      "\u001b[1;31mTypeError\u001b[0m: must be str, not int"
     ]
    }
   ],
   "source": [
    "#program to reverse a given string using a while loop\n",
    "s = \"Hello\"\n",
    "while s in range(0,4):\n",
    "    print(s.index(4))\n",
    "    print(s.index(3))\n",
    "    print(s.index(2))\n",
    "    print(s.index(1))\n",
    "    print(s.index(0))\n",
    "    print(s)\n",
    "\n",
    "\n"
   ]
  },
  {
   "cell_type": "code",
   "execution_count": null,
   "metadata": {},
   "outputs": [],
   "source": []
  }
 ],
 "metadata": {
  "kernelspec": {
   "display_name": "base",
   "language": "python",
   "name": "python3"
  },
  "language_info": {
   "codemirror_mode": {
    "name": "ipython",
    "version": 3
   },
   "file_extension": ".py",
   "mimetype": "text/x-python",
   "name": "python",
   "nbconvert_exporter": "python",
   "pygments_lexer": "ipython3",
   "version": "3.10.10"
  },
  "orig_nbformat": 4
 },
 "nbformat": 4,
 "nbformat_minor": 2
}
