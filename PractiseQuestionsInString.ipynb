{
 "cells": [
  {
   "cell_type": "code",
   "execution_count": 1,
   "metadata": {},
   "outputs": [
    {
     "name": "stdout",
     "output_type": "stream",
     "text": [
      " Arpita yadav\n"
     ]
    }
   ],
   "source": [
    "#Create a string and print it.\n",
    "name = \" Arpita yadav\"\n",
    "print(name)"
   ]
  },
  {
   "cell_type": "code",
   "execution_count": 8,
   "metadata": {},
   "outputs": [
    {
     "name": "stdout",
     "output_type": "stream",
     "text": [
      "Practice makes a man perfect\n",
      "the length of the string is: 28\n"
     ]
    }
   ],
   "source": [
    "#Take a string input and print it's length\n",
    "UserInput = input(\" give a string\")\n",
    "print(UserInput)\n",
    "length = len(UserInput)\n",
    "print(\"the length of the string is:\",length)"
   ]
  },
  {
   "cell_type": "code",
   "execution_count": 1,
   "metadata": {},
   "outputs": [
    {
     "name": "stdout",
     "output_type": "stream",
     "text": [
      " Great\n"
     ]
    }
   ],
   "source": [
    "#Print the last word of the string Python is great using slices.\n",
    "str = ' Python is Great'\n",
    "slice1 = str[-6: ]\n",
    "print(slice1)"
   ]
  },
  {
   "cell_type": "code",
   "execution_count": 2,
   "metadata": {},
   "outputs": [
    {
     "name": "stdout",
     "output_type": "stream",
     "text": [
      "Python\n",
      "is\n",
      "everywhere\n"
     ]
    }
   ],
   "source": [
    "#Print the each word in different line of string python is everywhere\n",
    "str = \"Python is everywhere\"\n",
    "print(*str.split(), sep='\\n')"
   ]
  },
  {
   "cell_type": "code",
   "execution_count": 8,
   "metadata": {},
   "outputs": [
    {
     "name": "stdout",
     "output_type": "stream",
     "text": [
      "dlrow olleH\n"
     ]
    }
   ],
   "source": [
    "# Print the string Hello World! in reverse\n",
    "str = \"Hello world\"\n",
    "slice = str[::-1]\n",
    "print(slice)"
   ]
  },
  {
   "cell_type": "code",
   "execution_count": 9,
   "metadata": {},
   "outputs": [
    {
     "name": "stdout",
     "output_type": "stream",
     "text": [
      "HOW ARE YOU\n"
     ]
    }
   ],
   "source": [
    "#Convert the string How are you? in uppercase\n",
    "str = 'How are you'\n",
    "print(str.upper())\n"
   ]
  },
  {
   "cell_type": "code",
   "execution_count": 10,
   "metadata": {},
   "outputs": [
    {
     "name": "stdout",
     "output_type": "stream",
     "text": [
      "how is it going\n"
     ]
    }
   ],
   "source": [
    "#Convert the string How Is It Going? in lowercase\n",
    "str = 'How is it Going'\n",
    "print( str.lower())"
   ]
  },
  {
   "cell_type": "code",
   "execution_count": 11,
   "metadata": {},
   "outputs": [
    {
     "data": {
      "text/plain": [
       "'Python is easy to learn'"
      ]
     },
     "execution_count": 11,
     "metadata": {},
     "output_type": "execute_result"
    }
   ],
   "source": [
    "# joining any list\n",
    "words = ['Python', 'is', 'easy', 'to', 'learn']\n",
    "\" \".join(words)"
   ]
  },
  {
   "cell_type": "code",
   "execution_count": 13,
   "metadata": {},
   "outputs": [
    {
     "name": "stdout",
     "output_type": "stream",
     "text": [
      "\n",
      "tujh sang bair lgaya aisa \n",
      "rha na mai phir apne jaisa\n",
      "mera naam isaq\n",
      "tera naam isaq\n",
      "\n"
     ]
    }
   ],
   "source": [
    "#Print a multiline string using a single print\n",
    "str = '''\n",
    "tujh sang bair lgaya aisa \n",
    "rha na mai phir apne jaisa\n",
    "mera naam isaq\n",
    "tera naam isaq\n",
    "'''\n",
    "print(str)"
   ]
  },
  {
   "cell_type": "code",
   "execution_count": 14,
   "metadata": {},
   "outputs": [
    {
     "name": "stdout",
     "output_type": "stream",
     "text": [
      " to move to newline \n",
      " is used \n"
     ]
    }
   ],
   "source": [
    "#Print this string to move to newline '\\n' is used.\n",
    "str = ' to move to newline \\n is used'\n",
    "print(repr(str))"
   ]
  },
  {
   "cell_type": "code",
   "execution_count": 16,
   "metadata": {},
   "outputs": [
    {
     "name": "stdout",
     "output_type": "stream",
     "text": [
      "the variable is: 15\n"
     ]
    }
   ],
   "source": [
    "# print \"the variable is 15\"\n",
    "uname = input(' the variable is:')\n",
    "if uname.isalnum():\n",
    "    print('the variable is:', uname)\n",
    "else: \n",
    "    print('Invalid input')"
   ]
  },
  {
   "cell_type": "code",
   "execution_count": 20,
   "metadata": {},
   "outputs": [
    {
     "name": "stdout",
     "output_type": "stream",
     "text": [
      "Python is great \n"
     ]
    }
   ],
   "source": [
    "#Concate\n",
    "s1 = 'Python '\n",
    "s2 = 'is '\n",
    "s3 = 'great '\n",
    "print( s1 + s2 + s3)"
   ]
  },
  {
   "cell_type": "code",
   "execution_count": null,
   "metadata": {},
   "outputs": [],
   "source": [
    "#Print # 20 times without using a loop\n"
   ]
  }
 ],
 "metadata": {
  "kernelspec": {
   "display_name": "base",
   "language": "python",
   "name": "python3"
  },
  "language_info": {
   "codemirror_mode": {
    "name": "ipython",
    "version": 3
   },
   "file_extension": ".py",
   "mimetype": "text/x-python",
   "name": "python",
   "nbconvert_exporter": "python",
   "pygments_lexer": "ipython3",
   "version": "3.10.10"
  },
  "orig_nbformat": 4
 },
 "nbformat": 4,
 "nbformat_minor": 2
}
