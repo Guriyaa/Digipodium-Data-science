{
 "cells": [
  {
   "cell_type": "code",
   "execution_count": 1,
   "metadata": {},
   "outputs": [
    {
     "name": "stdout",
     "output_type": "stream",
     "text": [
      " Arpita yadav\n"
     ]
    }
   ],
   "source": [
    "#Create a string and print it.\n",
    "name = \" Arpita yadav\"\n",
    "print(name)"
   ]
  },
  {
   "cell_type": "code",
   "execution_count": 8,
   "metadata": {},
   "outputs": [
    {
     "name": "stdout",
     "output_type": "stream",
     "text": [
      "Practice makes a man perfect\n",
      "the length of the string is: 28\n"
     ]
    }
   ],
   "source": [
    "#Take a string input and print it's length\n",
    "UserInput = input(\" give a string\")\n",
    "print(UserInput)\n",
    "length = len(UserInput)\n",
    "print(\"the length of the string is:\",length)"
   ]
  },
  {
   "cell_type": "code",
   "execution_count": 1,
   "metadata": {},
   "outputs": [
    {
     "name": "stdout",
     "output_type": "stream",
     "text": [
      " Great\n"
     ]
    }
   ],
   "source": [
    "#Print the last word of the string Python is great using slices.\n",
    "str = ' Python is Great'\n",
    "slice1 = str[-6: ]\n",
    "print(slice1)"
   ]
  },
  {
   "cell_type": "code",
   "execution_count": 2,
   "metadata": {},
   "outputs": [
    {
     "name": "stdout",
     "output_type": "stream",
     "text": [
      "Python\n",
      "is\n",
      "everywhere\n"
     ]
    }
   ],
   "source": [
    "#Print the each word in different line of string python is everywhere\n",
    "str = \"Python is everywhere\"\n",
    "print(*str.split(), sep='\\n')"
   ]
  },
  {
   "cell_type": "code",
   "execution_count": 8,
   "metadata": {},
   "outputs": [
    {
     "name": "stdout",
     "output_type": "stream",
     "text": [
      "dlrow olleH\n"
     ]
    }
   ],
   "source": [
    "# Print the string Hello World! in reverse\n",
    "str = \"Hello world\"\n",
    "slice = str[::-1]\n",
    "print(slice)"
   ]
  },
  {
   "cell_type": "code",
   "execution_count": 9,
   "metadata": {},
   "outputs": [
    {
     "name": "stdout",
     "output_type": "stream",
     "text": [
      "HOW ARE YOU\n"
     ]
    }
   ],
   "source": [
    "#Convert the string How are you? in uppercase\n",
    "str = 'How are you'\n",
    "print(str.upper())\n"
   ]
  },
  {
   "cell_type": "code",
   "execution_count": 10,
   "metadata": {},
   "outputs": [
    {
     "name": "stdout",
     "output_type": "stream",
     "text": [
      "how is it going\n"
     ]
    }
   ],
   "source": [
    "#Convert the string How Is It Going? in lowercase\n",
    "str = 'How is it Going'\n",
    "print( str.lower())"
   ]
  },
  {
   "cell_type": "code",
   "execution_count": 11,
   "metadata": {},
   "outputs": [
    {
     "data": {
      "text/plain": [
       "'Python is easy to learn'"
      ]
     },
     "execution_count": 11,
     "metadata": {},
     "output_type": "execute_result"
    }
   ],
   "source": [
    "# joining any list\n",
    "words = ['Python', 'is', 'easy', 'to', 'learn']\n",
    "\" \".join(words)"
   ]
  },
  {
   "cell_type": "code",
   "execution_count": 13,
   "metadata": {},
   "outputs": [
    {
     "name": "stdout",
     "output_type": "stream",
     "text": [
      "\n",
      "tujh sang bair lgaya aisa \n",
      "rha na mai phir apne jaisa\n",
      "mera naam isaq\n",
      "tera naam isaq\n",
      "\n"
     ]
    }
   ],
   "source": [
    "#Print a multiline string using a single print\n",
    "str = '''\n",
    "tujh sang bair lgaya aisa \n",
    "rha na mai phir apne jaisa\n",
    "mera naam isaq\n",
    "tera naam isaq\n",
    "'''\n",
    "print(str)"
   ]
  },
  {
   "cell_type": "code",
   "execution_count": 14,
   "metadata": {},
   "outputs": [
    {
     "name": "stdout",
     "output_type": "stream",
     "text": [
      " to move to newline \n",
      " is used \n"
     ]
    }
   ],
   "source": [
    "#Print this string to move to newline '\\n' is used.\n",
    "str = ' to move to newline \\n is used'\n",
    "print(repr(str))"
   ]
  },
  {
   "cell_type": "code",
   "execution_count": 16,
   "metadata": {},
   "outputs": [
    {
     "name": "stdout",
     "output_type": "stream",
     "text": [
      "the variable is: 15\n"
     ]
    }
   ],
   "source": [
    "# print \"the variable is 15\"\n",
    "uname = input(' the variable is:')\n",
    "if uname.isalnum():\n",
    "    print('the variable is:', uname)\n",
    "else: \n",
    "    print('Invalid input')"
   ]
  },
  {
   "cell_type": "code",
   "execution_count": 20,
   "metadata": {},
   "outputs": [
    {
     "name": "stdout",
     "output_type": "stream",
     "text": [
      "Python is great \n"
     ]
    }
   ],
   "source": [
    "#Concate\n",
    "s1 = 'Python '\n",
    "s2 = 'is '\n",
    "s3 = 'great '\n",
    "print( s1 + s2 + s3)"
   ]
  },
  {
   "cell_type": "code",
   "execution_count": 5,
   "metadata": {},
   "outputs": [
    {
     "name": "stdout",
     "output_type": "stream",
     "text": [
      " #  #  #  #  #  #  #  #  #  #  #  #  #  #  #  #  #  #  #  # \n"
     ]
    }
   ],
   "source": [
    "#Print # 20 times without using a loop\n",
    "print(\" # \" * 20 )"
   ]
  },
  {
   "cell_type": "code",
   "execution_count": 14,
   "metadata": {},
   "outputs": [
    {
     "name": "stdout",
     "output_type": "stream",
     "text": [
      "1. \n",
      "2. \n",
      "3. \n",
      "4. \n",
      "5. \n",
      "6. \n",
      "7. \n",
      "8. \n",
      "9. \n",
      "10. \n"
     ]
    }
   ],
   "source": [
    "# Print numbers from 1 to 10\n",
    "for i in range(1, 11):\n",
    "    print(str(i) + \". \")\n",
    "\n"
   ]
  },
  {
   "cell_type": "code",
   "execution_count": 18,
   "metadata": {},
   "outputs": [
    {
     "name": "stdout",
     "output_type": "stream",
     "text": [
      "All\n",
      "of\n",
      "us\n",
      "are\n",
      "dead\n"
     ]
    }
   ],
   "source": [
    "#Ask user to input a sentence and print each word on a different line.\n",
    "sentence = input(\"Enter a sentence: \")\n",
    "words = sentence.split()\n",
    "\n",
    "for word in words:\n",
    "    print(word)"
   ]
  },
  {
   "cell_type": "code",
   "execution_count": 20,
   "metadata": {},
   "outputs": [
    {
     "name": "stdout",
     "output_type": "stream",
     "text": [
      "The string ends with a question mark.\n"
     ]
    }
   ],
   "source": [
    "#Ask user to input a string and check if the string ends with '?'\n",
    "str = input(\"Enter a string: \")\n",
    "\n",
    "if str.endswith('?'):\n",
    "    print(\"The string ends with a question mark.\")\n",
    "else:\n",
    "    print(\"The string does not end with a question mark.\")"
   ]
  },
  {
   "cell_type": "code",
   "execution_count": 27,
   "metadata": {},
   "outputs": [
    {
     "name": "stdout",
     "output_type": "stream",
     "text": [
      "3\n"
     ]
    }
   ],
   "source": [
    "#Ask user to input a string and print how many times e appeared in the string\n",
    "str = input(\"input a string\")\n",
    "print(str.count('e'))"
   ]
  },
  {
   "cell_type": "code",
   "execution_count": 22,
   "metadata": {},
   "outputs": [
    {
     "name": "stdout",
     "output_type": "stream",
     "text": [
      "56\n"
     ]
    }
   ],
   "source": [
    "#Check if the user input is a number.\n",
    "x = input('Enter a number: ')\n",
    "if x.isnumeric():\n",
    "    x = int(x)\n",
    "    print(x)\n",
    "else:\n",
    "    print('Invalid input')    \n"
   ]
  },
  {
   "cell_type": "code",
   "execution_count": 31,
   "metadata": {},
   "outputs": [],
   "source": [
    "# Remove the extra spaces \n",
    "text = '   this is not a good string        '"
   ]
  },
  {
   "cell_type": "code",
   "execution_count": 32,
   "metadata": {},
   "outputs": [
    {
     "data": {
      "text/plain": [
       "'this is not a good string'"
      ]
     },
     "execution_count": 32,
     "metadata": {},
     "output_type": "execute_result"
    }
   ],
   "source": [
    "text.strip()"
   ]
  },
  {
   "cell_type": "code",
   "execution_count": 37,
   "metadata": {},
   "outputs": [
    {
     "name": "stdout",
     "output_type": "stream",
     "text": [
      "Found\n"
     ]
    }
   ],
   "source": [
    "#Ask user to input string, print found if any of the character is upper case.\n",
    "string = input(\"Enter a string: \")\n",
    "\n",
    "if any(char.isupper() for char in string):\n",
    "    print(\"Found\")\n",
    "else:\n",
    "    print(\"Not found\")\n",
    "   "
   ]
  },
  {
   "cell_type": "code",
   "execution_count": 38,
   "metadata": {},
   "outputs": [],
   "source": [
    "#Extract names from the following string and store them in a list\n",
    "names = 'Joe, David, Mark, Tom, Chris, Robert'\n",
    "list = names.split()"
   ]
  },
  {
   "cell_type": "code",
   "execution_count": 39,
   "metadata": {},
   "outputs": [
    {
     "name": "stdout",
     "output_type": "stream",
     "text": [
      "['Joe,', 'David,', 'Mark,', 'Tom,', 'Chris,', 'Robert']\n"
     ]
    }
   ],
   "source": [
    "print(list)"
   ]
  },
  {
   "cell_type": "code",
   "execution_count": 1,
   "metadata": {},
   "outputs": [
    {
     "name": "stdout",
     "output_type": "stream",
     "text": [
      "thisaye isaye someaye textaye\n"
     ]
    }
   ],
   "source": [
    "# add aye in the end of every word\n",
    "text = 'this is some text'\n",
    "modified_text = ' '.join([word + 'aye' for word in text.split()])\n",
    "print(modified_text)"
   ]
  },
  {
   "cell_type": "code",
   "execution_count": 2,
   "metadata": {},
   "outputs": [
    {
     "name": "stdout",
     "output_type": "stream",
     "text": [
      "no fiy is not there\n"
     ]
    }
   ],
   "source": [
    "#ask user to enter a string and check if the string contains fyi\n",
    "str = input(\"Enter a string\")\n",
    "if \"fiy\" in str:\n",
    "    print(\"yes it is there\")\n",
    "else:\n",
    "    print(\"no fiy is not there\")    \n",
    "\n",
    "\n"
   ]
  },
  {
   "cell_type": "code",
   "execution_count": 4,
   "metadata": {},
   "outputs": [
    {
     "name": "stdout",
     "output_type": "stream",
     "text": [
      "String without special characters and numbers: python\n"
     ]
    }
   ],
   "source": [
    "#Remove all the special characters and numbers\n",
    "import string\n",
    "\n",
    "def remove_special_and_numbers(text):\n",
    "    return ''.join(char for char in text if char.isalpha())\n",
    "\n",
    "text = '%p34@y!*-*!t68h#&on404'\n",
    "result = remove_special_and_numbers(text)\n",
    "print(\"String without special characters and numbers:\", result)\n",
    "\n"
   ]
  },
  {
   "cell_type": "code",
   "execution_count": 6,
   "metadata": {},
   "outputs": [
    {
     "name": "stdout",
     "output_type": "stream",
     "text": [
      "Average word length: 4.636363636363637\n"
     ]
    }
   ],
   "source": [
    "#calculate the average word length\n",
    "paragraph = \"this is a paragraph which is written just for the purpose of providing content to let the average word length be calculated\"\n",
    "words = paragraph.split()\n",
    "total_length = sum(len(word) for word in words)\n",
    "word_count = len(words)\n",
    "average_length = total_length / word_count\n",
    "print(\"Average word length:\", average_length)"
   ]
  },
  {
   "cell_type": "code",
   "execution_count": null,
   "metadata": {},
   "outputs": [],
   "source": []
  }
 ],
 "metadata": {
  "kernelspec": {
   "display_name": "base",
   "language": "python",
   "name": "python3"
  },
  "language_info": {
   "codemirror_mode": {
    "name": "ipython",
    "version": 3
   },
   "file_extension": ".py",
   "mimetype": "text/x-python",
   "name": "python",
   "nbconvert_exporter": "python",
   "pygments_lexer": "ipython3",
   "version": "3.10.10"
  },
  "orig_nbformat": 4
 },
 "nbformat": 4,
 "nbformat_minor": 2
}
