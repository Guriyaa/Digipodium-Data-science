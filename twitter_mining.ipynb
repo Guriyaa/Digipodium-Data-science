{
 "cells": [
  {
   "cell_type": "code",
   "execution_count": 1,
   "metadata": {},
   "outputs": [],
   "source": [
    "import tweepy\n",
    "import pandas as pd"
   ]
  },
  {
   "cell_type": "code",
   "execution_count": 2,
   "metadata": {},
   "outputs": [],
   "source": [
    "def create_api():\n",
    "    consumer_key = \"9ugMNLglWwmZDqY4qG3XtIfJZ\"\n",
    "    consumer_secret = \"jjKApjt2KY6eQvDTN8vbkALQIWmyZRjYFrjVULmRQ0CtPOUP39\"\n",
    "    access_token = \"261592337-qykIexJaM9vzQqNnj2p1yQtvjnV7O35oTo3EkWCW\"\n",
    "    access_token_secret = \"jwEbKD10d8Vn1LMR58LGsxluwzMPG8r0TAeXdqWpUXGLs\"\n",
    "\n",
    "    auth = tweepy.OAuthHandler(consumer_key, consumer_secret, access_token, access_token_secret)\n",
    "    # auth.set_access_token(access_token, access_token_secret)\n",
    "    api = tweepy.API(auth, wait_on_rate_limit=True)\n",
    "    return api\n",
    "\n",
    "def search_tweets(keyword, count):\n",
    "    api = create_api()\n",
    "    tweets = []\n",
    "    try:\n",
    "        tweets = api.search_tweets(q=keyword, count=count, lang='en')\n",
    "    except tweepy.TwitterServerError as e:\n",
    "        print(\"Error occurred while searching tweets:\", str(e))\n",
    "    return tweets\n",
    "\n",
    "def get_df(tweets):\n",
    "    datalist = []\n",
    "    for tweet in tweets:\n",
    "        data = {}\n",
    "        data[\"id\"]= tweet.id\n",
    "        data['username'] = tweet.user.screen_name\n",
    "        data['date']= tweet.created_at\n",
    "        data['tweet'] = tweet.text\n",
    "        datalist.append(data)\n",
    "    return datalist"
   ]
  },
  {
   "cell_type": "code",
   "execution_count": 3,
   "metadata": {},
   "outputs": [
    {
     "name": "stdout",
     "output_type": "stream",
     "text": [
      "collected data on hotel\n",
      "collected data on vacation\n",
      "collected data on motel\n",
      "collected data on food quality\n",
      "collected data on green hotel\n",
      "collected data on hotel staff\n"
     ]
    }
   ],
   "source": [
    "import pandas as pd\n",
    "from datetime import datetime\n",
    "keywords = ['hotel','vacation','motel','food quality','green hotel','hotel staff']\n",
    "date = datetime.strftime(datetime.now(), '%d_%m_%Y')\n",
    "\n",
    "for term in keywords:\n",
    "    results = search_tweets(term, 100)\n",
    "    df = pd.DataFrame(get_df(results))\n",
    "    df.to_csv(f'tweets/search_{term}_{date}.csv', index=None)\n",
    "    print(f'collected data on {term}')"
   ]
  },
  {
   "cell_type": "code",
   "execution_count": null,
   "metadata": {},
   "outputs": [],
   "source": []
  }
 ],
 "metadata": {
  "kernelspec": {
   "display_name": "base",
   "language": "python",
   "name": "python3"
  },
  "language_info": {
   "codemirror_mode": {
    "name": "ipython",
    "version": 3
   },
   "file_extension": ".py",
   "mimetype": "text/x-python",
   "name": "python",
   "nbconvert_exporter": "python",
   "pygments_lexer": "ipython3",
   "version": "3.10.10"
  },
  "orig_nbformat": 4
 },
 "nbformat": 4,
 "nbformat_minor": 2
}
