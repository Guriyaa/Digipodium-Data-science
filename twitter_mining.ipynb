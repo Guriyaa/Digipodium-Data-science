{
 "cells": [
  {
   "cell_type": "code",
   "execution_count": 1,
   "metadata": {},
   "outputs": [],
   "source": [
    "import tweepy"
   ]
  },
  {
   "cell_type": "code",
   "execution_count": 2,
   "metadata": {},
   "outputs": [],
   "source": [
    "def create_api():\n",
    "    consumer_key = \"f7kUjSZUaIWylGxm8HVWlrmRP\"\n",
    "    consumer_secret = \"rTkY0l37562d8nJyycCSVabDOgnipFxMOASC6OziYTXvIx0wFG\"\n",
    "    access_token = \"1670778074726809600-4N7bFFtScLmkaiL0c6PfVA0EEqpZqn\"\n",
    "    access_token_secret = \"q5lVzoHITRO2u8nmXkZKThjGA9QoB4Y80HS81ueVKhrw9\"\n",
    "\n",
    "    auth = tweepy.OAuthHandler(consumer_key, consumer_secret, access_token, access_token_secret)\n",
    "    # auth.set_access_token(access_token, access_token_secret)\n",
    "    api = tweepy.API(auth, wait_on_rate_limit=True)\n",
    "    return api\n",
    "\n",
    "def search_tweets(keyword, count):\n",
    "    api = create_api()\n",
    "    tweets = []\n",
    "    try:\n",
    "        tweets = api.search_tweets(q=keyword, count=count, tweet_mode=\"extended\",  )\n",
    "    except tweepy.TwitterServerError as e:\n",
    "        print(\"Error occurred while searching tweets:\", str(e))\n",
    "    return tweets\n",
    "\n",
    "def get_df(tweets):\n",
    "    datalist = []\n",
    "    for tweet in tweets:\n",
    "        data = {}\n",
    "        data[\"id\"]= tweet.id\n",
    "        data['username'] = tweet.user.screen_name\n",
    "        data['date']= tweet.created_at\n",
    "        data['tweet'] = tweet.full_text\n",
    "        datalist.append(data)\n",
    "    return datalist"
   ]
  },
  {
   "cell_type": "code",
   "execution_count": 3,
   "metadata": {},
   "outputs": [],
   "source": [
    "consumer_key = \"f7kUjSZUaIWylGxm8HVWlrmRP\"\n",
    "consumer_secret = \"rTkY0l37562d8nJyycCSVabDOgnipFxMOASC6OziYTXvIx0wFG\"\n",
    "access_token = \"1670778074726809600-4N7bFFtScLmkaiL0c6PfVA0EEqpZqn\"\n",
    "access_token_secret = \"q5lVzoHITRO2u8nmXkZKThjGA9QoB4Y80HS81ueVKhrw9\"\n",
    "auth = tweepy.OAuthHandler(consumer_key, consumer_secret, access_token, access_token_secret)\n",
    "api = tweepy.API(auth, wait_on_rate_limit=True)"
   ]
  },
  {
   "cell_type": "code",
   "execution_count": 4,
   "metadata": {},
   "outputs": [
    {
     "ename": "Forbidden",
     "evalue": "403 Forbidden\n453 - You currently have access to a subset of Twitter API v2 endpoints and limited v1.1 endpoints (e.g. media post, oauth) only. If you need access to this endpoint, you may need a different access level. You can learn more here: https://developer.twitter.com/en/portal/product",
     "output_type": "error",
     "traceback": [
      "\u001b[1;31m---------------------------------------------------------------------------\u001b[0m",
      "\u001b[1;31mForbidden\u001b[0m                                 Traceback (most recent call last)",
      "Cell \u001b[1;32mIn[4], line 1\u001b[0m\n\u001b[1;32m----> 1\u001b[0m results \u001b[39m=\u001b[39m search_tweets(\u001b[39m'\u001b[39;49m\u001b[39mhotel environment\u001b[39;49m\u001b[39m'\u001b[39;49m,\u001b[39m100\u001b[39;49m)\n",
      "Cell \u001b[1;32mIn[2], line 16\u001b[0m, in \u001b[0;36msearch_tweets\u001b[1;34m(keyword, count)\u001b[0m\n\u001b[0;32m     14\u001b[0m tweets \u001b[39m=\u001b[39m []\n\u001b[0;32m     15\u001b[0m \u001b[39mtry\u001b[39;00m:\n\u001b[1;32m---> 16\u001b[0m     tweets \u001b[39m=\u001b[39m api\u001b[39m.\u001b[39;49msearch_tweets(q\u001b[39m=\u001b[39;49mkeyword, count\u001b[39m=\u001b[39;49mcount, tweet_mode\u001b[39m=\u001b[39;49m\u001b[39m\"\u001b[39;49m\u001b[39mextended\u001b[39;49m\u001b[39m\"\u001b[39;49m,  )\n\u001b[0;32m     17\u001b[0m \u001b[39mexcept\u001b[39;00m tweepy\u001b[39m.\u001b[39mTwitterServerError \u001b[39mas\u001b[39;00m e:\n\u001b[0;32m     18\u001b[0m     \u001b[39mprint\u001b[39m(\u001b[39m\"\u001b[39m\u001b[39mError occurred while searching tweets:\u001b[39m\u001b[39m\"\u001b[39m, \u001b[39mstr\u001b[39m(e))\n",
      "File \u001b[1;32mc:\\Users\\Lenovo\\miniconda3\\lib\\site-packages\\tweepy\\api.py:33\u001b[0m, in \u001b[0;36mpagination.<locals>.decorator.<locals>.wrapper\u001b[1;34m(*args, **kwargs)\u001b[0m\n\u001b[0;32m     31\u001b[0m \u001b[39m@functools\u001b[39m\u001b[39m.\u001b[39mwraps(method)\n\u001b[0;32m     32\u001b[0m \u001b[39mdef\u001b[39;00m \u001b[39mwrapper\u001b[39m(\u001b[39m*\u001b[39margs, \u001b[39m*\u001b[39m\u001b[39m*\u001b[39mkwargs):\n\u001b[1;32m---> 33\u001b[0m     \u001b[39mreturn\u001b[39;00m method(\u001b[39m*\u001b[39margs, \u001b[39m*\u001b[39m\u001b[39m*\u001b[39mkwargs)\n",
      "File \u001b[1;32mc:\\Users\\Lenovo\\miniconda3\\lib\\site-packages\\tweepy\\api.py:46\u001b[0m, in \u001b[0;36mpayload.<locals>.decorator.<locals>.wrapper\u001b[1;34m(*args, **kwargs)\u001b[0m\n\u001b[0;32m     44\u001b[0m kwargs[\u001b[39m'\u001b[39m\u001b[39mpayload_list\u001b[39m\u001b[39m'\u001b[39m] \u001b[39m=\u001b[39m payload_list\n\u001b[0;32m     45\u001b[0m kwargs[\u001b[39m'\u001b[39m\u001b[39mpayload_type\u001b[39m\u001b[39m'\u001b[39m] \u001b[39m=\u001b[39m payload_type\n\u001b[1;32m---> 46\u001b[0m \u001b[39mreturn\u001b[39;00m method(\u001b[39m*\u001b[39margs, \u001b[39m*\u001b[39m\u001b[39m*\u001b[39mkwargs)\n",
      "File \u001b[1;32mc:\\Users\\Lenovo\\miniconda3\\lib\\site-packages\\tweepy\\api.py:1146\u001b[0m, in \u001b[0;36mAPI.search_tweets\u001b[1;34m(self, q, **kwargs)\u001b[0m\n\u001b[0;32m   1052\u001b[0m \u001b[39m@pagination\u001b[39m(mode\u001b[39m=\u001b[39m\u001b[39m'\u001b[39m\u001b[39mid\u001b[39m\u001b[39m'\u001b[39m)\n\u001b[0;32m   1053\u001b[0m \u001b[39m@payload\u001b[39m(\u001b[39m'\u001b[39m\u001b[39msearch_results\u001b[39m\u001b[39m'\u001b[39m)\n\u001b[0;32m   1054\u001b[0m \u001b[39mdef\u001b[39;00m \u001b[39msearch_tweets\u001b[39m(\u001b[39mself\u001b[39m, q, \u001b[39m*\u001b[39m\u001b[39m*\u001b[39mkwargs):\n\u001b[0;32m   1055\u001b[0m \u001b[39m    \u001b[39m\u001b[39m\"\"\"search_tweets(q, *, geocode, lang, locale, result_type, count, \\\u001b[39;00m\n\u001b[0;32m   1056\u001b[0m \u001b[39m                     until, since_id, max_id, include_entities)\u001b[39;00m\n\u001b[0;32m   1057\u001b[0m \n\u001b[1;32m   (...)\u001b[0m\n\u001b[0;32m   1144\u001b[0m \u001b[39m    .. _Twitter's documentation on the standard search API: https://developer.twitter.com/en/docs/twitter-api/v1/tweets/search/overview\u001b[39;00m\n\u001b[0;32m   1145\u001b[0m \u001b[39m    \"\"\"\u001b[39;00m\n\u001b[1;32m-> 1146\u001b[0m     \u001b[39mreturn\u001b[39;00m \u001b[39mself\u001b[39m\u001b[39m.\u001b[39mrequest(\n\u001b[0;32m   1147\u001b[0m         \u001b[39m'\u001b[39m\u001b[39mGET\u001b[39m\u001b[39m'\u001b[39m, \u001b[39m'\u001b[39m\u001b[39msearch/tweets\u001b[39m\u001b[39m'\u001b[39m, endpoint_parameters\u001b[39m=\u001b[39m(\n\u001b[0;32m   1148\u001b[0m             \u001b[39m'\u001b[39m\u001b[39mq\u001b[39m\u001b[39m'\u001b[39m, \u001b[39m'\u001b[39m\u001b[39mgeocode\u001b[39m\u001b[39m'\u001b[39m, \u001b[39m'\u001b[39m\u001b[39mlang\u001b[39m\u001b[39m'\u001b[39m, \u001b[39m'\u001b[39m\u001b[39mlocale\u001b[39m\u001b[39m'\u001b[39m, \u001b[39m'\u001b[39m\u001b[39mresult_type\u001b[39m\u001b[39m'\u001b[39m, \u001b[39m'\u001b[39m\u001b[39mcount\u001b[39m\u001b[39m'\u001b[39m,\n\u001b[0;32m   1149\u001b[0m             \u001b[39m'\u001b[39m\u001b[39muntil\u001b[39m\u001b[39m'\u001b[39m, \u001b[39m'\u001b[39m\u001b[39msince_id\u001b[39m\u001b[39m'\u001b[39m, \u001b[39m'\u001b[39m\u001b[39mmax_id\u001b[39m\u001b[39m'\u001b[39m, \u001b[39m'\u001b[39m\u001b[39minclude_entities\u001b[39m\u001b[39m'\u001b[39m\n\u001b[0;32m   1150\u001b[0m         ), q\u001b[39m=\u001b[39mq, \u001b[39m*\u001b[39m\u001b[39m*\u001b[39mkwargs\n\u001b[0;32m   1151\u001b[0m     )\n",
      "File \u001b[1;32mc:\\Users\\Lenovo\\miniconda3\\lib\\site-packages\\tweepy\\api.py:271\u001b[0m, in \u001b[0;36mAPI.request\u001b[1;34m(self, method, endpoint, endpoint_parameters, params, headers, json_payload, parser, payload_list, payload_type, post_data, files, require_auth, return_cursors, upload_api, use_cache, **kwargs)\u001b[0m\n\u001b[0;32m    269\u001b[0m     \u001b[39mraise\u001b[39;00m Unauthorized(resp)\n\u001b[0;32m    270\u001b[0m \u001b[39mif\u001b[39;00m resp\u001b[39m.\u001b[39mstatus_code \u001b[39m==\u001b[39m \u001b[39m403\u001b[39m:\n\u001b[1;32m--> 271\u001b[0m     \u001b[39mraise\u001b[39;00m Forbidden(resp)\n\u001b[0;32m    272\u001b[0m \u001b[39mif\u001b[39;00m resp\u001b[39m.\u001b[39mstatus_code \u001b[39m==\u001b[39m \u001b[39m404\u001b[39m:\n\u001b[0;32m    273\u001b[0m     \u001b[39mraise\u001b[39;00m NotFound(resp)\n",
      "\u001b[1;31mForbidden\u001b[0m: 403 Forbidden\n453 - You currently have access to a subset of Twitter API v2 endpoints and limited v1.1 endpoints (e.g. media post, oauth) only. If you need access to this endpoint, you may need a different access level. You can learn more here: https://developer.twitter.com/en/portal/product"
     ]
    }
   ],
   "source": [
    "results = search_tweets('hotel environment',100)"
   ]
  },
  {
   "cell_type": "code",
   "execution_count": null,
   "metadata": {},
   "outputs": [],
   "source": [
    "import pandas as pd"
   ]
  },
  {
   "cell_type": "code",
   "execution_count": null,
   "metadata": {},
   "outputs": [],
   "source": [
    "df = pd.DataFrame(get_df(results))"
   ]
  },
  {
   "cell_type": "code",
   "execution_count": null,
   "metadata": {},
   "outputs": [],
   "source": [
    "df.to_csv('hotels.csv', index=None)"
   ]
  },
  {
   "cell_type": "code",
   "execution_count": null,
   "metadata": {},
   "outputs": [
    {
     "name": "stdout",
     "output_type": "stream",
     "text": [
      "collected data on hotel\n",
      "collected data on vacation\n",
      "collected data on motel\n",
      "collected data on food quality\n",
      "collected data on green hotel\n"
     ]
    }
   ],
   "source": [
    "import pandas as pd\n",
    "from datetime import datetime\n",
    "keywords = ['hotel','vacation','motel','food quality','green hotel']\n",
    "date = datetime.strftime(datetime.now(), '%d_%m_%Y')\n",
    "\n",
    "for term in keywords:\n",
    "    results = search_tweets(term, 100)\n",
    "    df = pd.DataFrame(get_df(results))\n",
    "    df.to_csv(f'data/search_{term}_{date}.csv', index=None)\n",
    "    print(f'collected data on {term}')"
   ]
  },
  {
   "cell_type": "code",
   "execution_count": null,
   "metadata": {},
   "outputs": [],
   "source": []
  }
 ],
 "metadata": {
  "kernelspec": {
   "display_name": "base",
   "language": "python",
   "name": "python3"
  },
  "language_info": {
   "codemirror_mode": {
    "name": "ipython",
    "version": 3
   },
   "file_extension": ".py",
   "mimetype": "text/x-python",
   "name": "python",
   "nbconvert_exporter": "python",
   "pygments_lexer": "ipython3",
   "version": "3.10.10"
  },
  "orig_nbformat": 4
 },
 "nbformat": 4,
 "nbformat_minor": 2
}
