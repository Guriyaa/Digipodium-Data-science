{
 "cells": [
  {
   "cell_type": "code",
   "execution_count": 1,
   "metadata": {},
   "outputs": [
    {
     "name": "stdout",
     "output_type": "stream",
     "text": [
      "hellloooo\n"
     ]
    }
   ],
   "source": [
    "x = 15\n",
    "if x>10:\n",
    "    print(\"hellloooo\")"
   ]
  },
  {
   "cell_type": "code",
   "execution_count": 2,
   "metadata": {},
   "outputs": [],
   "source": [
    "x =10\n",
    "y = 40\n",
    "if x >y and x > 0:\n",
    "    print(\"x is greater than y\")"
   ]
  },
  {
   "cell_type": "code",
   "execution_count": 3,
   "metadata": {},
   "outputs": [
    {
     "name": "stdout",
     "output_type": "stream",
     "text": [
      "x is greater than 5 and y is greater than 3\n"
     ]
    }
   ],
   "source": [
    "if x>5:\n",
    "    if y > 1:\n",
    "        print(\"x is greater than 5 and y is greater than 3\")"
   ]
  },
  {
   "cell_type": "code",
   "execution_count": 4,
   "metadata": {},
   "outputs": [
    {
     "name": "stdout",
     "output_type": "stream",
     "text": [
      " x is greater than 5\n"
     ]
    }
   ],
   "source": [
    "if x> 5:\n",
    "    print( \" x is greater than 5\")\n",
    "else: \n",
    "    print(\" x ix not greater than 5\")"
   ]
  },
  {
   "cell_type": "code",
   "execution_count": 5,
   "metadata": {},
   "outputs": [
    {
     "name": "stdout",
     "output_type": "stream",
     "text": [
      "x and y are greater than 5 \n"
     ]
    }
   ],
   "source": [
    "if x>5:\n",
    "    if y>5:\n",
    "        print(\"x and y are greater than 5 \")\n",
    "    else: \n",
    "        print(\" x is greater than 5 and y is greater than 5\")\n",
    "else:\n",
    "    print(\" x is not greater than 5\")\n"
   ]
  },
  {
   "cell_type": "code",
   "execution_count": 12,
   "metadata": {},
   "outputs": [
    {
     "name": "stdout",
     "output_type": "stream",
     "text": [
      " the given number is odd\n"
     ]
    }
   ],
   "source": [
    "x = 3\n",
    "if x%2==0:\n",
    "    print(\"The given number is even\")\n",
    "else:\n",
    "    print(\" the given number is odd\")\n"
   ]
  },
  {
   "cell_type": "code",
   "execution_count": 14,
   "metadata": {},
   "outputs": [
    {
     "name": "stdout",
     "output_type": "stream",
     "text": [
      "y is greater than x and z\n"
     ]
    }
   ],
   "source": [
    "# multiple conditional statements\n",
    "x, y, z = 10, 31, 15\n",
    "if x > y and x > 5:\n",
    "    print(\" x is greater than y and z\")\n",
    "elif y > x and y > z:\n",
    "    print(\"y is greater than x and z\")\n",
    "elif z > x and z > y:\n",
    "    print(\" z is greater than x and y\")\n",
    "else:\n",
    "    print(\" x,y and z are equal\")"
   ]
  },
  {
   "cell_type": "code",
   "execution_count": 17,
   "metadata": {},
   "outputs": [
    {
     "name": "stdout",
     "output_type": "stream",
     "text": [
      "Today is Tuesday\n"
     ]
    }
   ],
   "source": [
    "day =  input('Enter the day of the week:')\n",
    "if day == 'sunday':\n",
    "    print('Today is sunday')\n",
    "elif day == 'Monday':\n",
    "    print(\" to day is Monday\")\n",
    "elif day == 'Tuesday':\n",
    "    print('Today is Tuesday')\n"
   ]
  },
  {
   "cell_type": "code",
   "execution_count": null,
   "metadata": {},
   "outputs": [],
   "source": []
  }
 ],
 "metadata": {
  "kernelspec": {
   "display_name": "base",
   "language": "python",
   "name": "python3"
  },
  "language_info": {
   "codemirror_mode": {
    "name": "ipython",
    "version": 3
   },
   "file_extension": ".py",
   "mimetype": "text/x-python",
   "name": "python",
   "nbconvert_exporter": "python",
   "pygments_lexer": "ipython3",
   "version": "3.10.10"
  },
  "orig_nbformat": 4
 },
 "nbformat": 4,
 "nbformat_minor": 2
}
