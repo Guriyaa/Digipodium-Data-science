{
 "cells": [
  {
   "cell_type": "code",
   "execution_count": 1,
   "metadata": {},
   "outputs": [
    {
     "name": "stdout",
     "output_type": "stream",
     "text": [
      "apple\n",
      "Banana\n",
      "Cherry\n",
      "Kiwi\n",
      "Mango\n",
      "grapes\n"
     ]
    }
   ],
   "source": [
    "fruits = [ 'apple', 'Banana', 'Cherry','Kiwi','Mango','grapes']\n",
    "for fruit in fruits:\n",
    "    print(fruit)"
   ]
  },
  {
   "cell_type": "code",
   "execution_count": 3,
   "metadata": {},
   "outputs": [
    {
     "name": "stdout",
     "output_type": "stream",
     "text": [
      "0 apple\n",
      "1 Banana\n",
      "2 Cherry\n",
      "3 Kiwi\n",
      "4 Mango\n",
      "5 grapes\n"
     ]
    }
   ],
   "source": [
    "#without using enumerate\n",
    "count = 0\n",
    "for fruit in fruits:\n",
    "    print(count, fruit)\n",
    "    count += 1"
   ]
  },
  {
   "cell_type": "code",
   "execution_count": 2,
   "metadata": {},
   "outputs": [
    {
     "name": "stdout",
     "output_type": "stream",
     "text": [
      "(0, 'apple')\n",
      "(1, 'Banana')\n",
      "(2, 'Cherry')\n",
      "(3, 'Kiwi')\n",
      "(4, 'Mango')\n",
      "(5, 'grapes')\n"
     ]
    }
   ],
   "source": [
    "#enumerate\n",
    "for item in enumerate(fruits):\n",
    "    print(item)\n"
   ]
  },
  {
   "cell_type": "code",
   "execution_count": 4,
   "metadata": {},
   "outputs": [
    {
     "name": "stdout",
     "output_type": "stream",
     "text": [
      "0 => apple\n",
      "1 => Banana\n",
      "2 => Cherry\n",
      "3 => Kiwi\n",
      "4 => Mango\n",
      "5 => grapes\n"
     ]
    }
   ],
   "source": [
    "#enumerate\n",
    "for idx, val in enumerate(fruits):\n",
    "    print(f'{idx} => {val}')"
   ]
  },
  {
   "cell_type": "code",
   "execution_count": 5,
   "metadata": {},
   "outputs": [
    {
     "name": "stdout",
     "output_type": "stream",
     "text": [
      "apple\n",
      "Cherry\n",
      "Mango\n"
     ]
    }
   ],
   "source": [
    "#break and continue\n",
    "#index based selection\n",
    "for idx, val in enumerate(fruits):\n",
    "    if idx % 2 ==0:\n",
    "        print(val)"
   ]
  },
  {
   "cell_type": "code",
   "execution_count": 6,
   "metadata": {},
   "outputs": [
    {
     "name": "stdout",
     "output_type": "stream",
     "text": [
      "apple\n",
      "Banana\n",
      "Cherry\n"
     ]
    }
   ],
   "source": [
    "#index based control\n",
    "for idx, val in enumerate(fruits):\n",
    "    if idx ==3:\n",
    "        break\n",
    "    print(val)"
   ]
  },
  {
   "cell_type": "code",
   "execution_count": 7,
   "metadata": {},
   "outputs": [
    {
     "name": "stdout",
     "output_type": "stream",
     "text": [
      "1 5 9\n",
      "2 6 10\n",
      "3 7 11\n",
      "4 8 12\n"
     ]
    }
   ],
   "source": [
    "#zip function\n",
    "x = [1,2,3,4]\n",
    "y = [5,6,7,8]\n",
    "z = [9,10,11,12]\n",
    "for i,j,k in zip(x,y,z):\n",
    "    print(i,j,k)"
   ]
  },
  {
   "cell_type": "code",
   "execution_count": 8,
   "metadata": {},
   "outputs": [
    {
     "name": "stdout",
     "output_type": "stream",
     "text": [
      "15 18 21 24 "
     ]
    }
   ],
   "source": [
    "#Zip for elements wise operation\n",
    "for i,j,k in zip(x,y,z):\n",
    "    print(i + j + k, end=' ')"
   ]
  },
  {
   "cell_type": "code",
   "execution_count": 10,
   "metadata": {},
   "outputs": [
    {
     "name": "stdout",
     "output_type": "stream",
     "text": [
      "1\n",
      "2\n",
      "3\n",
      "4\n",
      "loop completed\n"
     ]
    }
   ],
   "source": [
    "for i in x:\n",
    "    print(i)\n",
    "else:\n",
    "    print(\"loop completed\")"
   ]
  },
  {
   "cell_type": "code",
   "execution_count": 11,
   "metadata": {},
   "outputs": [
    {
     "name": "stdout",
     "output_type": "stream",
     "text": [
      "1\n",
      "2\n"
     ]
    }
   ],
   "source": [
    "for i in x:\n",
    "    if i == 3:\n",
    "        break\n",
    "    print(i)\n",
    "else:\n",
    "     print(\"loop completed\")\n",
    "\n"
   ]
  },
  {
   "cell_type": "code",
   "execution_count": 16,
   "metadata": {},
   "outputs": [
    {
     "name": "stdout",
     "output_type": "stream",
     "text": [
      "prime\n"
     ]
    }
   ],
   "source": [
    "x = 17\n",
    "for i in range(2, x):\n",
    "    if x % i ==0:\n",
    "      print('not prime')\n",
    "      break\n",
    "else:\n",
    "       print('prime')\n"
   ]
  },
  {
   "cell_type": "code",
   "execution_count": 17,
   "metadata": {},
   "outputs": [
    {
     "name": "stdout",
     "output_type": "stream",
     "text": [
      "you entered5\n",
      "you entered50\n"
     ]
    }
   ],
   "source": [
    "#while loop\n",
    "x = 0\n",
    "while x<10:\n",
    "    x = int(input('enter a value of x:'))\n",
    "    print(f'you entered{x}')"
   ]
  },
  {
   "cell_type": "code",
   "execution_count": 18,
   "metadata": {},
   "outputs": [
    {
     "name": "stdout",
     "output_type": "stream",
     "text": [
      "456+786 = 1242\n",
      "889+90 = 979\n"
     ]
    }
   ],
   "source": [
    "while True:\n",
    "    a = int (input('enter a alue for a:'))\n",
    "    b = int (input('enter a alue for b:'))\n",
    "    total = a+b\n",
    "    print(f'{a}+{b} = {total}')\n",
    "    if input('do you want to continue ? y/n')== 'n':\n",
    "        break\n"
   ]
  },
  {
   "cell_type": "code",
   "execution_count": 20,
   "metadata": {},
   "outputs": [
    {
     "name": "stdout",
     "output_type": "stream",
     "text": [
      "i would never fall in love\n",
      "until i found you\n",
      "\n"
     ]
    }
   ],
   "source": [
    "story = ''\n",
    "while True:\n",
    "    line = input('enter a line:')\n",
    "    if line:\n",
    "         story += line + '\\n'\n",
    "    else:\n",
    "         break\n",
    "print(story)"
   ]
  },
  {
   "cell_type": "code",
   "execution_count": null,
   "metadata": {},
   "outputs": [],
   "source": []
  }
 ],
 "metadata": {
  "kernelspec": {
   "display_name": "base",
   "language": "python",
   "name": "python3"
  },
  "language_info": {
   "codemirror_mode": {
    "name": "ipython",
    "version": 3
   },
   "file_extension": ".py",
   "mimetype": "text/x-python",
   "name": "python",
   "nbconvert_exporter": "python",
   "pygments_lexer": "ipython3",
   "version": "3.10.10"
  },
  "orig_nbformat": 4
 },
 "nbformat": 4,
 "nbformat_minor": 2
}
