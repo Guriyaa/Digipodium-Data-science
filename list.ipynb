{
 "cells": [
  {
   "attachments": {},
   "cell_type": "markdown",
   "metadata": {},
   "source": [
    "-list\n",
    "   -indexed\n",
    "   -ordered\n",
    "   - heterogeneous\n",
    "   -duplicate items\n",
    "   -mutable\n",
    "   - any type of element can be stored\n",
    "   - representes  by '[ ]'\n",
    "   - 'list()' methods is udes to convertany data type of list\n",
    " - creating list\n",
    " acsessing\n",
    " slicing\n",
    " methods in list\n",
    "   - adding elements\n",
    "      - append\n",
    "      - insert\n",
    "      - extend\n",
    "    - removing elements\n",
    "      - pop()\n",
    "      - remove()\n",
    "      -  clear()\n",
    "\n",
    "   - utility\n",
    "     - index\n",
    "     count\n",
    "     sort\n",
    "     reverse\n",
    "     copy\n",
    "            "
   ]
  },
  {
   "cell_type": "code",
   "execution_count": 6,
   "metadata": {},
   "outputs": [],
   "source": [
    "x = [1,2,3,4,5,6,7,8,9,10]\n",
    "y = [] #empty\n",
    "z = ['appple','banana','cherry','orange','melon','mango']\n",
    "a = ['alex', 5,'sam',7,'john',10,'james',15]\n",
    "a3 = [\n",
    "    [1,2,3],\n",
    "    [4,5,6],\n",
    "    [7,8,9]\n",
    "]\n"
   ]
  },
  {
   "cell_type": "code",
   "execution_count": 2,
   "metadata": {},
   "outputs": [],
   "source": [
    "class Movie:\n",
    "    def __init__(self,name,year):\n",
    "        self.name = name\n",
    "        self.year = year\n",
    "\n",
    "   "
   ]
  },
  {
   "cell_type": "code",
   "execution_count": 5,
   "metadata": {},
   "outputs": [],
   "source": [
    "Movies = [\n",
    "        Movie(\"the matrix\",1990),\n",
    "        Movie(\"the matrix reloader\",2003),\n",
    "        Movie(\"the matrix revolutions\",2003),\n",
    "        Movie(\"the matrix resurrenctions\",2021)\n",
    "        ]"
   ]
  },
  {
   "cell_type": "code",
   "execution_count": 7,
   "metadata": {},
   "outputs": [
    {
     "data": {
      "text/plain": [
       "['A', 'r', 'p', 'i', 't', 'a', ' ', 'y', 'a', 'd', 'a', 'v']"
      ]
     },
     "execution_count": 7,
     "metadata": {},
     "output_type": "execute_result"
    }
   ],
   "source": [
    "name = 'Arpita yadav'\n",
    "list(name)"
   ]
  },
  {
   "cell_type": "code",
   "execution_count": 10,
   "metadata": {},
   "outputs": [
    {
     "name": "stdout",
     "output_type": "stream",
     "text": [
      "[1, 2, 3, 4, 5, 6, 7, 8, 9, 10, 11, 12, 13, 14, 15, 16, 17, 18, 19, 20, 21, 22, 23, 24, 25, 26, 27, 28, 29, 30, 31, 32, 33, 34, 35, 36, 37, 38, 39, 40, 41, 42, 43, 44, 45, 46, 47, 48, 49, 50, 51, 52, 53, 54, 55]\n"
     ]
    }
   ],
   "source": [
    "print(list(range(1,56)))"
   ]
  },
  {
   "cell_type": "code",
   "execution_count": 15,
   "metadata": {},
   "outputs": [
    {
     "name": "stdout",
     "output_type": "stream",
     "text": [
      "alex\n",
      "15\n",
      "sam\n",
      "10\n"
     ]
    }
   ],
   "source": [
    "print(a[0])\n",
    "print(a[-1])\n",
    "print(a[2])\n",
    "print(a[5])"
   ]
  },
  {
   "cell_type": "code",
   "execution_count": 19,
   "metadata": {},
   "outputs": [
    {
     "name": "stdout",
     "output_type": "stream",
     "text": [
      "[1, 2, 3, 4, 5, 6, 7, 8, 9]\n",
      "[]\n",
      "[1, 2, 3, 4, 5, 6, 7, 8, 9]\n",
      "[]\n",
      "[2, 4, 6, 8]\n",
      "[9, 8, 7, 6, 5, 4, 3, 2, 1]\n",
      "[6, 5]\n"
     ]
    }
   ],
   "source": [
    "data = list(range(1,10))\n",
    "print(data[:10])\n",
    "print(data[10:20])\n",
    "print(data[-10:])#  last 10 elments\n",
    "print(data[23:26])\n",
    "print(data[1::2])# odd numbers\n",
    "print(data[::-1])#reverse list\n",
    "print(data[5:3:-1])# reverse slice\n"
   ]
  },
  {
   "cell_type": "code",
   "execution_count": 20,
   "metadata": {},
   "outputs": [
    {
     "name": "stdout",
     "output_type": "stream",
     "text": [
      "alex\n",
      "5\n",
      "sam\n",
      "7\n",
      "john\n",
      "10\n",
      "james\n",
      "15\n"
     ]
    }
   ],
   "source": [
    "for item in a:\n",
    "    print(item)"
   ]
  },
  {
   "cell_type": "code",
   "execution_count": 21,
   "metadata": {},
   "outputs": [],
   "source": [
    "movies = []\n",
    "movies.append('shrek')"
   ]
  },
  {
   "cell_type": "code",
   "execution_count": 22,
   "metadata": {},
   "outputs": [],
   "source": [
    "movies.append('never have i ever')\n",
    "movies.append('flower')\n",
    "movies.append('wednesday')\n",
    "movies.append('suryavansam')\n",
    "movies.append('DDLJ')\n",
    "movies.append('lll')\n",
    "movies.append('100')\n",
    "movies.append('mine')\n",
    "movies.append('Put your head on my shulder')\n",
    "movies.append('ever')\n",
    "movies.append('never')\n"
   ]
  },
  {
   "cell_type": "code",
   "execution_count": 23,
   "metadata": {},
   "outputs": [
    {
     "name": "stdout",
     "output_type": "stream",
     "text": [
      "['shrek', 'never have i ever', 'flower', 'wednesday', 'suryavansam', 'DDLJ', 'lll', '100', 'mine', 'Put your head on my shulder', 'ever', 'never']\n"
     ]
    }
   ],
   "source": [
    "print(movies)"
   ]
  },
  {
   "cell_type": "code",
   "execution_count": 24,
   "metadata": {},
   "outputs": [
    {
     "data": {
      "text/plain": [
       "['shrek',\n",
       " 'never have i ever',\n",
       " 'hit',\n",
       " 'wednesday',\n",
       " 'suryavansam',\n",
       " 'DDLJ',\n",
       " 'lll',\n",
       " '100',\n",
       " 'mine',\n",
       " 'Put your head on my shulder',\n",
       " 'ever',\n",
       " 'never']"
      ]
     },
     "execution_count": 24,
     "metadata": {},
     "output_type": "execute_result"
    }
   ],
   "source": [
    "movies[2] = 'hit'#update\n",
    "movies"
   ]
  },
  {
   "cell_type": "code",
   "execution_count": 26,
   "metadata": {},
   "outputs": [
    {
     "data": {
      "text/plain": [
       "['shrek',\n",
       " 'never have i ever',\n",
       " 'hit',\n",
       " 'gargi',\n",
       " 'gargi',\n",
       " 'wednesday',\n",
       " 'suryavansam',\n",
       " 'DDLJ',\n",
       " 'lll',\n",
       " '100',\n",
       " 'mine',\n",
       " 'Put your head on my shulder',\n",
       " 'ever',\n",
       " 'never']"
      ]
     },
     "execution_count": 26,
     "metadata": {},
     "output_type": "execute_result"
    }
   ],
   "source": [
    "movies.insert(3,'gargi')#insert\n",
    "movies\n"
   ]
  },
  {
   "cell_type": "code",
   "execution_count": 27,
   "metadata": {},
   "outputs": [
    {
     "name": "stdout",
     "output_type": "stream",
     "text": [
      "['memories', 'naruto', 'peace', 'king', 'demon slayer']\n"
     ]
    }
   ],
   "source": [
    "#user create list\n",
    "animelist = []\n",
    "for i in range(5):\n",
    "    name = input('enter an anime:')\n",
    "    animelist.append(name)\n",
    "print(animelist)    "
   ]
  },
  {
   "cell_type": "code",
   "execution_count": 28,
   "metadata": {},
   "outputs": [
    {
     "data": {
      "text/plain": [
       "[1, 2, 3, 4, 5, 6, 7, 8]"
      ]
     },
     "execution_count": 28,
     "metadata": {},
     "output_type": "execute_result"
    }
   ],
   "source": [
    "x = [1,2,3,4]\n",
    "y =[5,6,7,8]\n",
    "x+y #creates a new list"
   ]
  },
  {
   "cell_type": "code",
   "execution_count": 30,
   "metadata": {},
   "outputs": [
    {
     "name": "stdout",
     "output_type": "stream",
     "text": [
      "[1, 2, 3, 4, 5, 6, 7, 8, 5, 6, 7, 8]\n"
     ]
    }
   ],
   "source": [
    "x.extend(y)# modifies x\n",
    "print(x)"
   ]
  },
  {
   "cell_type": "code",
   "execution_count": 31,
   "metadata": {},
   "outputs": [
    {
     "data": {
      "text/plain": [
       "['shrek',\n",
       " 'never have i ever',\n",
       " 'hit',\n",
       " 'gargi',\n",
       " 'gargi',\n",
       " 'wednesday',\n",
       " 'suryavansam',\n",
       " 'DDLJ',\n",
       " 'lll',\n",
       " '100',\n",
       " 'mine',\n",
       " 'Put your head on my shulder',\n",
       " 'ever',\n",
       " 'never']"
      ]
     },
     "execution_count": 31,
     "metadata": {},
     "output_type": "execute_result"
    }
   ],
   "source": [
    "movies"
   ]
  },
  {
   "cell_type": "code",
   "execution_count": 33,
   "metadata": {},
   "outputs": [],
   "source": [
    "movies.remove('ever')# first elememt will be removed"
   ]
  },
  {
   "cell_type": "code",
   "execution_count": 34,
   "metadata": {},
   "outputs": [
    {
     "data": {
      "text/plain": [
       "['shrek',\n",
       " 'never have i ever',\n",
       " 'hit',\n",
       " 'gargi',\n",
       " 'gargi',\n",
       " 'wednesday',\n",
       " 'DDLJ',\n",
       " 'lll',\n",
       " '100',\n",
       " 'mine',\n",
       " 'Put your head on my shulder',\n",
       " 'never']"
      ]
     },
     "execution_count": 34,
     "metadata": {},
     "output_type": "execute_result"
    }
   ],
   "source": [
    "movies"
   ]
  },
  {
   "cell_type": "code",
   "execution_count": 35,
   "metadata": {},
   "outputs": [
    {
     "data": {
      "text/plain": [
       "'never'"
      ]
     },
     "execution_count": 35,
     "metadata": {},
     "output_type": "execute_result"
    }
   ],
   "source": [
    "movies.pop()# remove the last element\n"
   ]
  },
  {
   "cell_type": "code",
   "execution_count": 37,
   "metadata": {},
   "outputs": [
    {
     "data": {
      "text/plain": [
       "'gargi'"
      ]
     },
     "execution_count": 37,
     "metadata": {},
     "output_type": "execute_result"
    }
   ],
   "source": [
    "movies.pop(3)#removing the 3 element"
   ]
  },
  {
   "cell_type": "code",
   "execution_count": 38,
   "metadata": {},
   "outputs": [
    {
     "data": {
      "text/plain": [
       "['shrek',\n",
       " 'never have i ever',\n",
       " 'hit',\n",
       " 'wednesday',\n",
       " 'DDLJ',\n",
       " 'lll',\n",
       " '100',\n",
       " 'mine',\n",
       " 'Put your head on my shulder']"
      ]
     },
     "execution_count": 38,
     "metadata": {},
     "output_type": "execute_result"
    }
   ],
   "source": [
    "movies"
   ]
  },
  {
   "cell_type": "code",
   "execution_count": 41,
   "metadata": {},
   "outputs": [
    {
     "name": "stdout",
     "output_type": "stream",
     "text": [
      "value not found\n"
     ]
    }
   ],
   "source": [
    "if 'lll' in movies:\n",
    "    movies.remove('lll')\n",
    "else:\n",
    "    print('value not found')"
   ]
  },
  {
   "cell_type": "code",
   "execution_count": 40,
   "metadata": {},
   "outputs": [
    {
     "data": {
      "text/plain": [
       "['shrek',\n",
       " 'never have i ever',\n",
       " 'hit',\n",
       " 'wednesday',\n",
       " 'DDLJ',\n",
       " '100',\n",
       " 'mine',\n",
       " 'Put your head on my shulder']"
      ]
     },
     "execution_count": 40,
     "metadata": {},
     "output_type": "execute_result"
    }
   ],
   "source": [
    "movies"
   ]
  },
  {
   "cell_type": "code",
   "execution_count": 43,
   "metadata": {},
   "outputs": [
    {
     "name": "stdout",
     "output_type": "stream",
     "text": [
      "value not found\n"
     ]
    }
   ],
   "source": [
    "value = 'wed'\n",
    "if value in movies:\n",
    "    movies.remove(value)\n",
    "else:\n",
    "    print('value not found')    "
   ]
  },
  {
   "cell_type": "code",
   "execution_count": 44,
   "metadata": {},
   "outputs": [],
   "source": [
    "del a # deletes the variable from memory"
   ]
  },
  {
   "cell_type": "code",
   "execution_count": 2,
   "metadata": {},
   "outputs": [],
   "source": [
    "books = [\n",
    "    'my name',\n",
    "    'hello',\n",
    "    'half girlfriend',\n",
    "    'Harry potar',\n",
    "    'jjjjj',\n",
    "    'kkkkk',\n",
    "    'jjjj',\n",
    "    'hhhh',\n",
    "    'oooo',\n",
    "    'ppp'\n",
    "]"
   ]
  },
  {
   "cell_type": "code",
   "execution_count": 51,
   "metadata": {},
   "outputs": [
    {
     "data": {
      "text/plain": [
       "0"
      ]
     },
     "execution_count": 51,
     "metadata": {},
     "output_type": "execute_result"
    }
   ],
   "source": [
    "books.index('my name')"
   ]
  },
  {
   "cell_type": "code",
   "execution_count": 55,
   "metadata": {},
   "outputs": [
    {
     "name": "stdout",
     "output_type": "stream",
     "text": [
      "1\n",
      "4\n",
      "1\n"
     ]
    }
   ],
   "source": [
    "x = [12,34,54,22,12,1,2,12,12,0,87,65,]\n",
    "print(x.count(1))\n",
    "print(x.count(12))\n",
    "print(x.count(34))"
   ]
  },
  {
   "cell_type": "code",
   "execution_count": 56,
   "metadata": {},
   "outputs": [
    {
     "name": "stdout",
     "output_type": "stream",
     "text": [
      "['ppp', 'oooo', 'hhhh', 'jjjj', 'kkkkk', 'jjjjj', 'Harry potar', 'half girlfriend', 'hello', 'my name']\n"
     ]
    }
   ],
   "source": [
    "books.reverse()\n",
    "print(books)"
   ]
  },
  {
   "cell_type": "code",
   "execution_count": 57,
   "metadata": {},
   "outputs": [],
   "source": [
    "books.sort() #sorts data in asscending order if all elements areof same type"
   ]
  },
  {
   "cell_type": "code",
   "execution_count": 58,
   "metadata": {},
   "outputs": [
    {
     "data": {
      "text/plain": [
       "['Harry potar',\n",
       " 'half girlfriend',\n",
       " 'hello',\n",
       " 'hhhh',\n",
       " 'jjjj',\n",
       " 'jjjjj',\n",
       " 'kkkkk',\n",
       " 'my name',\n",
       " 'oooo',\n",
       " 'ppp']"
      ]
     },
     "execution_count": 58,
     "metadata": {},
     "output_type": "execute_result"
    }
   ],
   "source": [
    "books"
   ]
  },
  {
   "cell_type": "code",
   "execution_count": 59,
   "metadata": {},
   "outputs": [
    {
     "name": "stdout",
     "output_type": "stream",
     "text": [
      "['ppp', 'oooo', 'my name', 'kkkkk', 'jjjjj', 'jjjj', 'hhhh', 'hello', 'half girlfriend', 'Harry potar']\n"
     ]
    }
   ],
   "source": [
    "books.sort(reverse=True)#sort data in decsending order\n",
    "print(books)"
   ]
  },
  {
   "cell_type": "code",
   "execution_count": 60,
   "metadata": {},
   "outputs": [
    {
     "data": {
      "text/plain": [
       "['ppp',\n",
       " 'oooo',\n",
       " 'my name',\n",
       " 'kkkkk',\n",
       " 'jjjjj',\n",
       " 'jjjj',\n",
       " 'hhhh',\n",
       " 'hello',\n",
       " 'half girlfriend',\n",
       " 'Harry potar']"
      ]
     },
     "execution_count": 60,
     "metadata": {},
     "output_type": "execute_result"
    }
   ],
   "source": [
    "books"
   ]
  },
  {
   "cell_type": "code",
   "execution_count": 61,
   "metadata": {},
   "outputs": [],
   "source": [
    "books_backup = books.copy()# a copy of variable is created at a different memory location"
   ]
  },
  {
   "cell_type": "code",
   "execution_count": 62,
   "metadata": {},
   "outputs": [],
   "source": [
    "books2 = books"
   ]
  },
  {
   "cell_type": "code",
   "execution_count": 63,
   "metadata": {},
   "outputs": [
    {
     "data": {
      "text/plain": [
       "['ppp',\n",
       " 'oooo',\n",
       " 'my name',\n",
       " 'kkkkk',\n",
       " 'jjjjj',\n",
       " 'jjjj',\n",
       " 'hhhh',\n",
       " 'hello',\n",
       " 'half girlfriend',\n",
       " 'Harry potar']"
      ]
     },
     "execution_count": 63,
     "metadata": {},
     "output_type": "execute_result"
    }
   ],
   "source": [
    "books"
   ]
  },
  {
   "cell_type": "code",
   "execution_count": 64,
   "metadata": {},
   "outputs": [
    {
     "data": {
      "text/plain": [
       "['ppp',\n",
       " 'oooo',\n",
       " 'my name',\n",
       " 'kkkkk',\n",
       " 'jjjjj',\n",
       " 'jjjj',\n",
       " 'hhhh',\n",
       " 'hello',\n",
       " 'half girlfriend',\n",
       " 'Harry potar']"
      ]
     },
     "execution_count": 64,
     "metadata": {},
     "output_type": "execute_result"
    }
   ],
   "source": [
    "books2"
   ]
  },
  {
   "cell_type": "code",
   "execution_count": 65,
   "metadata": {},
   "outputs": [
    {
     "data": {
      "text/plain": [
       "['ppp',\n",
       " 'oooo',\n",
       " 'my name',\n",
       " 'kkkkk',\n",
       " 'jjjjj',\n",
       " 'jjjj',\n",
       " 'hhhh',\n",
       " 'hello',\n",
       " 'half girlfriend',\n",
       " 'Harry potar']"
      ]
     },
     "execution_count": 65,
     "metadata": {},
     "output_type": "execute_result"
    }
   ],
   "source": [
    "books_backup"
   ]
  },
  {
   "cell_type": "code",
   "execution_count": 66,
   "metadata": {},
   "outputs": [
    {
     "name": "stdout",
     "output_type": "stream",
     "text": [
      "['ppp', 'oooo', 'my name', 'kkkkk', 'jjjjj', 'jjjj', 'hhhh', 'hello', 'half girlfriend', 'Harry potar', 'The allay of law']\n",
      "['ppp', 'oooo', 'my name', 'kkkkk', 'jjjjj', 'jjjj', 'hhhh', 'hello', 'half girlfriend', 'Harry potar', 'The allay of law']\n",
      "['ppp', 'oooo', 'my name', 'kkkkk', 'jjjjj', 'jjjj', 'hhhh', 'hello', 'half girlfriend', 'Harry potar']\n"
     ]
    }
   ],
   "source": [
    "books.append('The allay of law')\n",
    "print(books)\n",
    "print(books2)\n",
    "print(books_backup)"
   ]
  },
  {
   "cell_type": "code",
   "execution_count": 67,
   "metadata": {},
   "outputs": [
    {
     "data": {
      "text/plain": [
       "True"
      ]
     },
     "execution_count": 67,
     "metadata": {},
     "output_type": "execute_result"
    }
   ],
   "source": [
    "books is books"
   ]
  },
  {
   "cell_type": "code",
   "execution_count": 68,
   "metadata": {},
   "outputs": [
    {
     "data": {
      "text/plain": [
       "False"
      ]
     },
     "execution_count": 68,
     "metadata": {},
     "output_type": "execute_result"
    }
   ],
   "source": [
    "books_backup is books"
   ]
  },
  {
   "cell_type": "code",
   "execution_count": 3,
   "metadata": {},
   "outputs": [
    {
     "ename": "AttributeError",
     "evalue": "'list' object has no attribute 'search'",
     "output_type": "error",
     "traceback": [
      "\u001b[1;31m---------------------------------------------------------------------------\u001b[0m",
      "\u001b[1;31mAttributeError\u001b[0m                            Traceback (most recent call last)",
      "Cell \u001b[1;32mIn[3], line 1\u001b[0m\n\u001b[1;32m----> 1\u001b[0m books\u001b[39m.\u001b[39;49msearch(hello)\n",
      "\u001b[1;31mAttributeError\u001b[0m: 'list' object has no attribute 'search'"
     ]
    }
   ],
   "source": [
    "books.search(hello)"
   ]
  },
  {
   "cell_type": "code",
   "execution_count": null,
   "metadata": {},
   "outputs": [],
   "source": []
  }
 ],
 "metadata": {
  "kernelspec": {
   "display_name": "base",
   "language": "python",
   "name": "python3"
  },
  "language_info": {
   "codemirror_mode": {
    "name": "ipython",
    "version": 3
   },
   "file_extension": ".py",
   "mimetype": "text/x-python",
   "name": "python",
   "nbconvert_exporter": "python",
   "pygments_lexer": "ipython3",
   "version": "3.10.10"
  },
  "orig_nbformat": 4
 },
 "nbformat": 4,
 "nbformat_minor": 2
}
