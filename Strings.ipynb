{
 "cells": [
  {
   "cell_type": "code",
   "execution_count": 2,
   "metadata": {},
   "outputs": [
    {
     "name": "stdout",
     "output_type": "stream",
     "text": [
      "This is a string\n",
      " This is another string\n",
      " this is ,ultiple string\n",
      "also string \n",
      "more\n",
      "b' this is a byte srring'\n",
      " this is a \n",
      "unicode string\n",
      " This is a \\nraw string\n"
     ]
    }
   ],
   "source": [
    "#strings\n",
    "a = 'This is a string'#single quote\n",
    "b = \" This is another string\"#double quote\n",
    "c = ''' this is ,multiple string\n",
    "also string \n",
    "more'''\n",
    "d = b' this is a byte srring'\n",
    "e = u' this is a \\nunicode string'\n",
    "f = r' This is a \\nraw string'\n",
    "print(a)\n",
    "print(b)\n",
    "print(c)\n",
    "print(d)\n",
    "print(e)\n",
    "print(f)\n",
    "\n"
   ]
  },
  {
   "cell_type": "code",
   "execution_count": 3,
   "metadata": {},
   "outputs": [
    {
     "name": "stdout",
     "output_type": "stream",
     "text": [
      "10\n"
     ]
    }
   ],
   "source": [
    "x =  10\n",
    "x = str(x)\n",
    "print(x)"
   ]
  },
  {
   "cell_type": "code",
   "execution_count": 2,
   "metadata": {},
   "outputs": [
    {
     "name": "stdout",
     "output_type": "stream",
     "text": [
      "str =  digipodium\n",
      "str[0] =  d\n",
      "str[1] =  i\n",
      "str[-1] =  m\n",
      "str[-2] =  u\n"
     ]
    }
   ],
   "source": [
    "#Accessing string characters in python\n",
    "#indexing\n",
    "str = 'digipodium'\n",
    "print('str = ', str)\n",
    "#print First character\n",
    "print('str[0] = ', str[0])\n",
    "#print second character\n",
    "print('str[1] = ', str[1])\n",
    "#last character\n",
    "print('str[-1] = ', str[-1])\n",
    "#second last character\n",
    "print('str[-2] = ', str[-2])"
   ]
  },
  {
   "cell_type": "code",
   "execution_count": 3,
   "metadata": {},
   "outputs": [
    {
     "name": "stdout",
     "output_type": "stream",
     "text": [
      "pod\n"
     ]
    }
   ],
   "source": [
    "#slicing\n",
    "s = 'digipodium'\n",
    "slice1 = s[4:7]\n",
    "print(slice1)\n",
    "\n"
   ]
  },
  {
   "cell_type": "code",
   "execution_count": 12,
   "metadata": {},
   "outputs": [
    {
     "name": "stdout",
     "output_type": "stream",
     "text": [
      "Vijay\n",
      "chauhan\n",
      "Deenanath\n"
     ]
    }
   ],
   "source": [
    "name = 'Vijay Deenanath chauhan'\n",
    "slice2 = name[0:5] # we can also write it as [:5]\n",
    "print(slice2)\n",
    "slice3 = name[-7:]\n",
    "print(slice3)\n",
    "len(name)\n",
    "slice4 = name[6:15]\n",
    "print(slice4)"
   ]
  },
  {
   "cell_type": "code",
   "execution_count": 13,
   "metadata": {},
   "outputs": [
    {
     "data": {
      "text/plain": [
       "'VjyDeaahcahn'"
      ]
     },
     "execution_count": 13,
     "metadata": {},
     "output_type": "execute_result"
    }
   ],
   "source": [
    "name [::2] #range function"
   ]
  },
  {
   "cell_type": "code",
   "execution_count": 14,
   "metadata": {},
   "outputs": [
    {
     "data": {
      "text/plain": [
       "'nahuahc htananeeD yajiV'"
      ]
     },
     "execution_count": 14,
     "metadata": {},
     "output_type": "execute_result"
    }
   ],
   "source": [
    "name[::-1] #negative indexes or to reverse a string"
   ]
  },
  {
   "cell_type": "code",
   "execution_count": 18,
   "metadata": {},
   "outputs": [
    {
     "name": "stdout",
     "output_type": "stream",
     "text": [
      "Invalid input\n"
     ]
    }
   ],
   "source": [
    "x = input('Enter a number: ')\n",
    "if x.isnumeric():\n",
    "    x = int(x)\n",
    "    print(x)\n",
    "else:\n",
    "    print('Invalid input')    \n"
   ]
  },
  {
   "cell_type": "code",
   "execution_count": 20,
   "metadata": {},
   "outputs": [
    {
     "name": "stdout",
     "output_type": "stream",
     "text": [
      "Hello 908\n"
     ]
    }
   ],
   "source": [
    "uname = input('Enter your name:')\n",
    "if uname.isalnum():\n",
    "    print('Hello', uname)\n",
    "else: \n",
    "    print('Invalid input')"
   ]
  },
  {
   "cell_type": "code",
   "execution_count": 22,
   "metadata": {},
   "outputs": [
    {
     "name": "stdout",
     "output_type": "stream",
     "text": [
      "not soo special\n"
     ]
    }
   ],
   "source": [
    "uname = input('enter your name:')\n",
    "if not uname.isalnum():\n",
    "  print('must be an special char')\n",
    "else:\n",
    "  print('not soo special') \n"
   ]
  },
  {
   "cell_type": "code",
   "execution_count": 23,
   "metadata": {},
   "outputs": [
    {
     "name": "stdout",
     "output_type": "stream",
     "text": [
      "welcome\n",
      "welcome\n",
      "not welcome\n",
      "welcome\n"
     ]
    }
   ],
   "source": [
    "names = ['Mr. Ananad', 'Mrs vijay','Er. Ravi', 'Mr. bee']\n",
    "for name in names:\n",
    "    if name.startswith('Mr')or name.startswith('Mrs'):\n",
    "        print(\"welcome\")\n",
    "    else:\n",
    "        print('not welcome')\n"
   ]
  },
  {
   "cell_type": "code",
   "execution_count": 24,
   "metadata": {},
   "outputs": [
    {
     "name": "stdout",
     "output_type": "stream",
     "text": [
      "abc.txt    teat file\n",
      "xyz.doc    unknown file type\n",
      "pqr.py     python file\n",
      "mno.py     python file\n",
      "def.txt    teat file\n"
     ]
    }
   ],
   "source": [
    "files = ['abc.txt','xyz.doc','pqr.py','mno.py','def.txt']\n",
    "for item in files:\n",
    "    if item.endswith('.txt'):\n",
    "       print(f'{item:10} teat file')\n",
    "    elif item.endswith('.py'):\n",
    "        print(f'{item:10} python file')\n",
    "    else:\n",
    "        print(f'{item:10} unknown file type')\n",
    "     \n"
   ]
  },
  {
   "cell_type": "code",
   "execution_count": 26,
   "metadata": {},
   "outputs": [
    {
     "name": "stdout",
     "output_type": "stream",
     "text": [
      "JOURNEY BEFORE DESTINATION\n",
      "journey before destination\n",
      "Journey Before Destination\n",
      "Journey before destination\n",
      "jOURNEY BEFORE DESTINATION\n",
      "journey before destination\n"
     ]
    }
   ],
   "source": [
    "#formatting methods\n",
    "name = 'Journey before destination'\n",
    "print(name.upper())\n",
    "print(name.lower())\n",
    "print(name.title())\n",
    "print(name.capitalize())\n",
    "print(name.swapcase())\n",
    "print(name.casefold())\n"
   ]
  },
  {
   "cell_type": "code",
   "execution_count": 27,
   "metadata": {},
   "outputs": [
    {
     "name": "stdout",
     "output_type": "stream",
     "text": [
      "journey before destination\n"
     ]
    }
   ],
   "source": [
    "name = name.lower() # to make the change peramnenet\n",
    "print(name)"
   ]
  },
  {
   "cell_type": "code",
   "execution_count": 32,
   "metadata": {},
   "outputs": [
    {
     "name": "stdout",
     "output_type": "stream",
     "text": [
      "4\n",
      "4\n"
     ]
    }
   ],
   "source": [
    "#Utility methods\n",
    "s = 'this is an example string, this is a simple string'\n",
    "print(s.count('is'))\n",
    "print(s.count('t'))"
   ]
  },
  {
   "cell_type": "code",
   "execution_count": 33,
   "metadata": {},
   "outputs": [
    {
     "name": "stdout",
     "output_type": "stream",
     "text": [
      "13\n"
     ]
    }
   ],
   "source": [
    "tv = s.count('a') + s.count('e') + s.count('i') + s.count('o') + s.count('u') \n",
    "print(tv)"
   ]
  },
  {
   "cell_type": "code",
   "execution_count": 38,
   "metadata": {},
   "outputs": [
    {
     "name": "stdout",
     "output_type": "stream",
     "text": [
      "11\n",
      "2\n",
      "29\n",
      "11\n"
     ]
    }
   ],
   "source": [
    "print(s.find('example'))\n",
    "print(s.find('is'))\n",
    "print(s.find('is',6))\n",
    "print(s.rfind('ex'))"
   ]
  },
  {
   "cell_type": "code",
   "execution_count": 39,
   "metadata": {},
   "outputs": [
    {
     "data": {
      "text/plain": [
       "'thwas was an example string, thwas was a simple string'"
      ]
     },
     "execution_count": 39,
     "metadata": {},
     "output_type": "execute_result"
    }
   ],
   "source": [
    "s.replace('is','was')"
   ]
  },
  {
   "cell_type": "code",
   "execution_count": 40,
   "metadata": {},
   "outputs": [
    {
     "data": {
      "text/plain": [
       "'this is an example  , this is a simple  '"
      ]
     },
     "execution_count": 40,
     "metadata": {},
     "output_type": "execute_result"
    }
   ],
   "source": [
    "s.replace('string',' ')"
   ]
  },
  {
   "cell_type": "code",
   "execution_count": 41,
   "metadata": {},
   "outputs": [
    {
     "data": {
      "text/plain": [
       "'thwas was an example string, thwas was a simple string'"
      ]
     },
     "execution_count": 41,
     "metadata": {},
     "output_type": "execute_result"
    }
   ],
   "source": [
    "s.replace('is','was')"
   ]
  },
  {
   "cell_type": "code",
   "execution_count": 43,
   "metadata": {},
   "outputs": [
    {
     "name": "stdout",
     "output_type": "stream",
     "text": [
      "['this', 'is', 'an', 'example', 'string,', 'this', 'is', 'a', 'simple', 'string']\n"
     ]
    }
   ],
   "source": [
    "words = s.split()\n",
    "print(words)"
   ]
  },
  {
   "cell_type": "code",
   "execution_count": 44,
   "metadata": {},
   "outputs": [
    {
     "data": {
      "text/plain": [
       "['this is an example string', ' this is a simple string']"
      ]
     },
     "execution_count": 44,
     "metadata": {},
     "output_type": "execute_result"
    }
   ],
   "source": [
    "s.split(',')"
   ]
  },
  {
   "cell_type": "code",
   "execution_count": 47,
   "metadata": {},
   "outputs": [
    {
     "data": {
      "text/plain": [
       "'one** two** three** four'"
      ]
     },
     "execution_count": 47,
     "metadata": {},
     "output_type": "execute_result"
    }
   ],
   "source": [
    "words = ['one','two','three','four']\n",
    "\"** \".join(words)"
   ]
  },
  {
   "cell_type": "code",
   "execution_count": 51,
   "metadata": {},
   "outputs": [
    {
     "name": "stdout",
     "output_type": "stream",
     "text": [
      "   Arpita\n",
      "\n",
      "   \n",
      "Arpita\n"
     ]
    }
   ],
   "source": [
    "x = '   Arpita\\n\\n   '\n",
    "print(x)\n",
    "print(x.strip())"
   ]
  },
  {
   "cell_type": "code",
   "execution_count": null,
   "metadata": {},
   "outputs": [],
   "source": []
  }
 ],
 "metadata": {
  "kernelspec": {
   "display_name": "base",
   "language": "python",
   "name": "python3"
  },
  "language_info": {
   "codemirror_mode": {
    "name": "ipython",
    "version": 3
   },
   "file_extension": ".py",
   "mimetype": "text/x-python",
   "name": "python",
   "nbconvert_exporter": "python",
   "pygments_lexer": "ipython3",
   "version": "3.10.10"
  },
  "orig_nbformat": 4
 },
 "nbformat": 4,
 "nbformat_minor": 2
}
