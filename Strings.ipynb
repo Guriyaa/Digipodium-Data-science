{
 "cells": [
  {
   "cell_type": "code",
   "execution_count": 2,
   "metadata": {},
   "outputs": [
    {
     "name": "stdout",
     "output_type": "stream",
     "text": [
      "This is a string\n",
      " This is another string\n",
      " this is ,ultiple string\n",
      "also string \n",
      "more\n",
      "b' this is a byte srring'\n",
      " this is a \n",
      "unicode string\n",
      " This is a \\nraw string\n"
     ]
    }
   ],
   "source": [
    "#strings\n",
    "a = 'This is a string'#single quote\n",
    "b = \" This is another string\"#double quote\n",
    "c = ''' this is ,multiple string\n",
    "also string \n",
    "more'''\n",
    "d = b' this is a byte srring'\n",
    "e = u' this is a \\nunicode string'\n",
    "f = r' This is a \\nraw string'\n",
    "print(a)\n",
    "print(b)\n",
    "print(c)\n",
    "print(d)\n",
    "print(e)\n",
    "print(f)\n",
    "\n"
   ]
  },
  {
   "cell_type": "code",
   "execution_count": 3,
   "metadata": {},
   "outputs": [
    {
     "name": "stdout",
     "output_type": "stream",
     "text": [
      "10\n"
     ]
    }
   ],
   "source": [
    "x =  10\n",
    "x = str(x)\n",
    "print(x)"
   ]
  }
 ],
 "metadata": {
  "kernelspec": {
   "display_name": "base",
   "language": "python",
   "name": "python3"
  },
  "language_info": {
   "codemirror_mode": {
    "name": "ipython",
    "version": 3
   },
   "file_extension": ".py",
   "mimetype": "text/x-python",
   "name": "python",
   "nbconvert_exporter": "python",
   "pygments_lexer": "ipython3",
   "version": "3.10.10"
  },
  "orig_nbformat": 4
 },
 "nbformat": 4,
 "nbformat_minor": 2
}
