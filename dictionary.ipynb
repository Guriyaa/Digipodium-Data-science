{
 "cells": [
  {
   "attachments": {},
   "cell_type": "markdown",
   "metadata": {},
   "source": [
    "### dictionary\n",
    "  - ordered\n",
    "  - mutable \n",
    "  - key value pair\n",
    "     - key: are immutable and unique\n",
    "     - value: can be mutable or immutabe and can be duplicate and have any type\n",
    "  - unindexed\n",
    "  - reprsented by '{ }'\n",
    "  - dict() that can take key value pair as argument\n",
    "  -    "
   ]
  },
  {
   "cell_type": "code",
   "execution_count": 1,
   "metadata": {},
   "outputs": [],
   "source": [
    "# creating dictionary\n",
    "fruits ={ \n",
    "\n",
    "    \"apple\":2,\n",
    "    \"mango\":3,\n",
    "    \"orange\":9\n",
    "}"
   ]
  },
  {
   "cell_type": "code",
   "execution_count": 2,
   "metadata": {},
   "outputs": [],
   "source": [
    "grocery = {\n",
    "    'fruits':['apple','mango','grapes',' orange'],\n",
    "    'vegetable':[ 'carrot','lettuse','onion'],\n",
    "    'dairy':[ 'milk','cheese','yougurt'],\n",
    "    'meat': None\n",
    "}"
   ]
  },
  {
   "cell_type": "code",
   "execution_count": 3,
   "metadata": {},
   "outputs": [],
   "source": [
    "from pprint import pp"
   ]
  },
  {
   "cell_type": "code",
   "execution_count": 4,
   "metadata": {},
   "outputs": [
    {
     "name": "stdout",
     "output_type": "stream",
     "text": [
      "{'apple': 2, 'mango': 3, 'orange': 9}\n",
      "{'fruits': ['apple', 'mango', 'grapes', ' orange'],\n",
      " 'vegetable': ['carrot', 'lettuse', 'onion'],\n",
      " 'dairy': ['milk', 'cheese', 'yougurt'],\n",
      " 'meat': None}\n"
     ]
    }
   ],
   "source": [
    "pp(fruits)\n",
    "pp( grocery)"
   ]
  },
  {
   "cell_type": "code",
   "execution_count": 6,
   "metadata": {},
   "outputs": [
    {
     "data": {
      "text/plain": [
       "2"
      ]
     },
     "execution_count": 6,
     "metadata": {},
     "output_type": "execute_result"
    }
   ],
   "source": [
    "fruits['apple']# retrieve value"
   ]
  },
  {
   "cell_type": "code",
   "execution_count": 7,
   "metadata": {},
   "outputs": [],
   "source": [
    "fruits['apple'] = 10"
   ]
  },
  {
   "cell_type": "code",
   "execution_count": 8,
   "metadata": {},
   "outputs": [
    {
     "name": "stdout",
     "output_type": "stream",
     "text": [
      "{'apple': 10, 'mango': 3, 'orange': 9}\n"
     ]
    }
   ],
   "source": [
    "pp(fruits)"
   ]
  },
  {
   "cell_type": "code",
   "execution_count": 9,
   "metadata": {},
   "outputs": [],
   "source": [
    "fruits['mango']= 25"
   ]
  },
  {
   "cell_type": "code",
   "execution_count": 10,
   "metadata": {},
   "outputs": [
    {
     "name": "stdout",
     "output_type": "stream",
     "text": [
      "{'apple': 10, 'mango': 25, 'orange': 9}\n"
     ]
    }
   ],
   "source": [
    "pp(fruits)"
   ]
  },
  {
   "cell_type": "code",
   "execution_count": 11,
   "metadata": {},
   "outputs": [
    {
     "name": "stdout",
     "output_type": "stream",
     "text": [
      "{'apple': 10, 'mango': 25, 'orange': 9, 'cherry': 100}\n"
     ]
    }
   ],
   "source": [
    "fruits['cherry']= 100\n",
    "pp(fruits)"
   ]
  },
  {
   "cell_type": "code",
   "execution_count": 12,
   "metadata": {},
   "outputs": [
    {
     "name": "stdout",
     "output_type": "stream",
     "text": [
      "{'fruits': ['apple', 'mango', 'grapes', ' orange'],\n",
      " 'vegetable': ['carrot', 'lettuse', 'onion'],\n",
      " 'dairy': ['milk', 'cheese', 'yougurt'],\n",
      " 'meat': None,\n",
      " 'spices': ['cumin', 'coriender', 'turmeric']}\n"
     ]
    }
   ],
   "source": [
    "grocery['spices']= ['cumin','coriender','turmeric']\n",
    "pp(grocery)"
   ]
  },
  {
   "cell_type": "code",
   "execution_count": 13,
   "metadata": {},
   "outputs": [],
   "source": [
    "grocery['fruits'] = ['mango']"
   ]
  },
  {
   "cell_type": "code",
   "execution_count": 14,
   "metadata": {},
   "outputs": [
    {
     "name": "stdout",
     "output_type": "stream",
     "text": [
      "{'fruits': ['mango'],\n",
      " 'vegetable': ['carrot', 'lettuse', 'onion'],\n",
      " 'dairy': ['milk', 'cheese', 'yougurt'],\n",
      " 'meat': None,\n",
      " 'spices': ['cumin', 'coriender', 'turmeric']}\n"
     ]
    }
   ],
   "source": [
    "pp(grocery)"
   ]
  },
  {
   "cell_type": "code",
   "execution_count": 16,
   "metadata": {},
   "outputs": [],
   "source": [
    "grocery['fruits'].append('mangoo')"
   ]
  },
  {
   "cell_type": "code",
   "execution_count": 17,
   "metadata": {},
   "outputs": [
    {
     "name": "stdout",
     "output_type": "stream",
     "text": [
      "{'fruits': ['mango', 'mangoo'],\n",
      " 'vegetable': ['carrot', 'lettuse', 'onion'],\n",
      " 'dairy': ['milk', 'cheese', 'yougurt'],\n",
      " 'meat': None,\n",
      " 'spices': ['cumin', 'coriender', 'turmeric']}\n"
     ]
    }
   ],
   "source": [
    "pp(grocery)"
   ]
  },
  {
   "cell_type": "code",
   "execution_count": 19,
   "metadata": {},
   "outputs": [],
   "source": [
    "grocery['fruits'].remove('mango')"
   ]
  },
  {
   "cell_type": "code",
   "execution_count": 20,
   "metadata": {},
   "outputs": [
    {
     "name": "stdout",
     "output_type": "stream",
     "text": [
      "{'fruits': ['mangoo'],\n",
      " 'vegetable': ['carrot', 'lettuse', 'onion'],\n",
      " 'dairy': ['milk', 'cheese', 'yougurt'],\n",
      " 'meat': None,\n",
      " 'spices': ['cumin', 'coriender', 'turmeric']}\n"
     ]
    }
   ],
   "source": [
    "pp(grocery)"
   ]
  },
  {
   "cell_type": "code",
   "execution_count": 24,
   "metadata": {},
   "outputs": [],
   "source": [
    "reports = {\n",
    "    'rajesh': {\n",
    "        'English': 90,\n",
    "        'Math': 80,\n",
    "        'Science': 70\n",
    "    },\n",
    "    'Suresh':\n",
    "    {\n",
    "        'English': 80,\n",
    "         'Math': 90,\n",
    "        'jj' : 90\n",
    "    }\n",
    "\n",
    "}"
   ]
  },
  {
   "cell_type": "code",
   "execution_count": 25,
   "metadata": {},
   "outputs": [
    {
     "name": "stdout",
     "output_type": "stream",
     "text": [
      "{'rajesh': {'English': 90, 'Math': 80, 'Science': 70, 'evs': 90},\n",
      " 'Suresh': {'English': 80, 'Math': 90, 'jj': 90}}\n"
     ]
    }
   ],
   "source": [
    "reports['rajesh']['evs'] = 90\n",
    "pp(reports)"
   ]
  },
  {
   "cell_type": "code",
   "execution_count": 26,
   "metadata": {},
   "outputs": [
    {
     "data": {
      "text/plain": [
       "{'English': 90, 'Math': 80, 'Science': 70, 'evs': 90}"
      ]
     },
     "execution_count": 26,
     "metadata": {},
     "output_type": "execute_result"
    }
   ],
   "source": [
    "reports.pop('rajesh')"
   ]
  },
  {
   "cell_type": "code",
   "execution_count": 27,
   "metadata": {},
   "outputs": [
    {
     "name": "stdout",
     "output_type": "stream",
     "text": [
      "{'Suresh': {'English': 80, 'Math': 90, 'jj': 90}}\n"
     ]
    }
   ],
   "source": [
    "pp(reports)"
   ]
  },
  {
   "cell_type": "code",
   "execution_count": 28,
   "metadata": {},
   "outputs": [],
   "source": [
    "grocery['vegetable'].remove('onion')"
   ]
  },
  {
   "cell_type": "code",
   "execution_count": 29,
   "metadata": {},
   "outputs": [
    {
     "name": "stdout",
     "output_type": "stream",
     "text": [
      "{'fruits': ['mangoo'],\n",
      " 'vegetable': ['carrot', 'lettuse'],\n",
      " 'dairy': ['milk', 'cheese', 'yougurt'],\n",
      " 'meat': None,\n",
      " 'spices': ['cumin', 'coriender', 'turmeric']}\n"
     ]
    }
   ],
   "source": [
    "pp(grocery)"
   ]
  },
  {
   "cell_type": "code",
   "execution_count": 30,
   "metadata": {},
   "outputs": [
    {
     "data": {
      "text/plain": [
       "dict_keys(['apple', 'mango', 'orange', 'cherry'])"
      ]
     },
     "execution_count": 30,
     "metadata": {},
     "output_type": "execute_result"
    }
   ],
   "source": [
    "fruits.keys() #to get all the keys"
   ]
  },
  {
   "cell_type": "code",
   "execution_count": 31,
   "metadata": {},
   "outputs": [
    {
     "data": {
      "text/plain": [
       "dict_values([10, 25, 9, 100])"
      ]
     },
     "execution_count": 31,
     "metadata": {},
     "output_type": "execute_result"
    }
   ],
   "source": [
    "fruits.values() # to get all the values "
   ]
  },
  {
   "cell_type": "code",
   "execution_count": 32,
   "metadata": {},
   "outputs": [
    {
     "data": {
      "text/plain": [
       "dict_items([('apple', 10), ('mango', 25), ('orange', 9), ('cherry', 100)])"
      ]
     },
     "execution_count": 32,
     "metadata": {},
     "output_type": "execute_result"
    }
   ],
   "source": [
    "fruits.items()# to get all the pairs of vslue and keys"
   ]
  },
  {
   "cell_type": "code",
   "execution_count": 33,
   "metadata": {},
   "outputs": [
    {
     "name": "stdout",
     "output_type": "stream",
     "text": [
      "apple 10\n",
      "mango 25\n",
      "orange 9\n",
      "cherry 100\n"
     ]
    }
   ],
   "source": [
    "for k,v in fruits.items():\n",
    "    print(k,v)"
   ]
  },
  {
   "cell_type": "code",
   "execution_count": 35,
   "metadata": {},
   "outputs": [
    {
     "data": {
      "text/plain": [
       "80"
      ]
     },
     "execution_count": 35,
     "metadata": {},
     "output_type": "execute_result"
    }
   ],
   "source": [
    "reports['Suresh']['English']"
   ]
  },
  {
   "cell_type": "code",
   "execution_count": 37,
   "metadata": {},
   "outputs": [],
   "source": [
    "reports.get('ramesh')"
   ]
  },
  {
   "cell_type": "code",
   "execution_count": 39,
   "metadata": {},
   "outputs": [
    {
     "data": {
      "text/plain": [
       "' ye student kbhi aay h nhi'"
      ]
     },
     "execution_count": 39,
     "metadata": {},
     "output_type": "execute_result"
    }
   ],
   "source": [
    "reports.get('ramesh', ' ye student kbhi aay h nhi')"
   ]
  },
  {
   "cell_type": "code",
   "execution_count": 40,
   "metadata": {},
   "outputs": [
    {
     "data": {
      "text/plain": [
       "{'English': 80, 'Math': 90, 'jj': 90}"
      ]
     },
     "execution_count": 40,
     "metadata": {},
     "output_type": "execute_result"
    }
   ],
   "source": [
    "reports.get('Suresh', ' ye student kbhi aay h nhi')"
   ]
  },
  {
   "cell_type": "code",
   "execution_count": 41,
   "metadata": {},
   "outputs": [
    {
     "data": {
      "text/plain": [
       "{'Suresh': {'English': 80, 'Math': 90, 'jj': 90}}"
      ]
     },
     "execution_count": 41,
     "metadata": {},
     "output_type": "execute_result"
    }
   ],
   "source": [
    "reports"
   ]
  },
  {
   "cell_type": "code",
   "execution_count": 42,
   "metadata": {},
   "outputs": [
    {
     "name": "stdout",
     "output_type": "stream",
     "text": [
      "{'Suresh': {'English': 80, 'Math': 90, 'jj': 90},\n",
      " 'Sunita': {'English': 90, 'math': 90, 'science': 90}}\n"
     ]
    }
   ],
   "source": [
    "reports[ 'Sunita'] ={\n",
    "    'English': 90,\n",
    "    'math' : 90,\n",
    "    'science': 90\n",
    "}\n",
    "pp(reports)"
   ]
  },
  {
   "cell_type": "code",
   "execution_count": 51,
   "metadata": {},
   "outputs": [
    {
     "name": "stdout",
     "output_type": "stream",
     "text": [
      "Suresh\n",
      "80 in English\n",
      "90 in Math\n",
      "90 in jj\n",
      "----------------------------------------\n",
      "Sunita\n",
      "90 in English\n",
      "90 in math\n",
      "90 in science\n",
      "----------------------------------------\n"
     ]
    }
   ],
   "source": [
    "for student,details in reports.items():\n",
    "    print(student)\n",
    "    for subject, marks in details.items():\n",
    "       print(f'{marks} in {subject}')\n",
    "    print( '----' *10)"
   ]
  },
  {
   "attachments": {},
   "cell_type": "markdown",
   "metadata": {},
   "source": [
    "#create a dictionary of 5 employees with details\n",
    "  - name - str\n",
    "  -department - str\n",
    "  - salary - int\n",
    "  - skills - list\n",
    "   -projects - dict\n",
    "       -project_name : str\n",
    "       -Project_duration: int\n",
    "       - project_ technologies : list"
   ]
  },
  {
   "cell_type": "code",
   "execution_count": 6,
   "metadata": {},
   "outputs": [
    {
     "name": "stdout",
     "output_type": "stream",
     "text": [
      "{'e1': {'name': 'Alex',\n",
      "        'departments': 'HR',\n",
      "        'salary': 10000,\n",
      "        'skills': ['communication', 'management'],\n",
      "        'projects': {'projects_name': 'HRMS',\n",
      "                     'project_duration': 7,\n",
      "                     'project_technology': ['excel',\n",
      "                                            'power bi',\n",
      "                                            'powerpoint']}},\n",
      " 'e2': {'name': 'Ana',\n",
      "        'departments': 'delopment',\n",
      "        'salary': 100000,\n",
      "        'skills': ['java', 'python'],\n",
      "        'projects': {'projects_name': 'ooo',\n",
      "                     'project_duration': 9,\n",
      "                     'project_technology': ['uuu', 'pow', 'vs']}},\n",
      " 'e3': {'name': 'Anaa',\n",
      "        'departments': 'Testing',\n",
      "        'salary': 1000000,\n",
      "        'skills': ['java', 'python'],\n",
      "        'projects': {'projects_name': 'ooo',\n",
      "                     'project_duration': 9,\n",
      "                     'project_technology': ['uuu', 'pow', 'vs']}},\n",
      " 'e4': {'name': 'Arpita',\n",
      "        'departments': 'delopment',\n",
      "        'salary': 100000,\n",
      "        'skills': ['java', 'python'],\n",
      "        'projects': {'projects_name': 'ooo',\n",
      "                     'project_duration': 9,\n",
      "                     'project_technology': ['uuu', 'pow', 'vs']}},\n",
      " 'e5': {'name': 'siya',\n",
      "        'departments': 'delopment',\n",
      "        'salary': 100000,\n",
      "        'skills': ['java', 'python'],\n",
      "        'projects': {'projects_name': 'ooo',\n",
      "                     'project_duration': 9,\n",
      "                     'project_technology': ['uuu', 'pow', 'vs']}}}\n"
     ]
    }
   ],
   "source": [
    "\n",
    "from pprint import pp\n",
    "Employees ={\n",
    "   'e1' : \n",
    "   {\n",
    "       'name' : 'Alex',\n",
    "       'departments': 'HR',\n",
    "       'salary': 10000,\n",
    "       'skills': ['communication','management'],\n",
    "       'projects': {\n",
    "           'projects_name': 'HRMS',\n",
    "           'project_duration': 7,\n",
    "           'project_technology': ['excel','power bi','powerpoint']\n",
    "       },\n",
    "   } ,\n",
    "\n",
    "'e2' : \n",
    "   {\n",
    "       'name' : 'Ana',\n",
    "       'departments' : 'delopment',\n",
    "       'salary': 100000,\n",
    "       'skills': ['java','python'],\n",
    "       'projects': {\n",
    "           'projects_name': 'ooo',\n",
    "           'project_duration': 9,\n",
    "           'project_technology': ['uuu','pow','vs']\n",
    "       },\n",
    "   } ,\n",
    "'e3' : \n",
    "   {\n",
    "       'name' : 'Anaa',\n",
    "       'departments': 'Testing',\n",
    "       'salary': 1000000,\n",
    "       'skills': ['java','python'],\n",
    "       'projects': {\n",
    "           'projects_name': 'ooo',\n",
    "           'project_duration': 9,\n",
    "           'project_technology': ['uuu','pow','vs']\n",
    "       },\n",
    "   },\n",
    "'e4' : \n",
    "   {\n",
    "       'name' : 'Arpita',\n",
    "       'departments': 'delopment',\n",
    "       'salary': 100000,\n",
    "       'skills': ['java','python'],\n",
    "       'projects': {\n",
    "           'projects_name': 'ooo',\n",
    "           'project_duration': 9,\n",
    "           'project_technology': ['uuu','pow','vs']\n",
    "       },\n",
    "   } ,\n",
    "'e5' :\n",
    "   {\n",
    "       'name' : 'siya',\n",
    "       'departments': 'delopment',\n",
    "       'salary': 100000,\n",
    "       'skills': ['java','python'],\n",
    "       'projects': {\n",
    "           'projects_name': 'ooo',\n",
    "           'project_duration': 9,\n",
    "           'project_technology': ['uuu','pow','vs']\n",
    "       },\n",
    "   } \n",
    "}  \n",
    "\n",
    "pp(Employees)\n",
    "\n",
    "\n"
   ]
  },
  {
   "cell_type": "code",
   "execution_count": null,
   "metadata": {},
   "outputs": [],
   "source": []
  }
 ],
 "metadata": {
  "kernelspec": {
   "display_name": "base",
   "language": "python",
   "name": "python3"
  },
  "language_info": {
   "codemirror_mode": {
    "name": "ipython",
    "version": 3
   },
   "file_extension": ".py",
   "mimetype": "text/x-python",
   "name": "python",
   "nbconvert_exporter": "python",
   "pygments_lexer": "ipython3",
   "version": "3.10.10"
  },
  "orig_nbformat": 4
 },
 "nbformat": 4,
 "nbformat_minor": 2
}
