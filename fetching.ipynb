{
 "cells": [
  {
   "cell_type": "code",
   "execution_count": 1,
   "metadata": {},
   "outputs": [
    {
     "ename": "AttributeError",
     "evalue": "module 'tweepy' has no attribute 'TweepError'",
     "output_type": "error",
     "traceback": [
      "\u001b[1;31m---------------------------------------------------------------------------\u001b[0m",
      "\u001b[1;31mAttributeError\u001b[0m                            Traceback (most recent call last)",
      "Cell \u001b[1;32mIn[1], line 18\u001b[0m, in \u001b[0;36msearch_tweets\u001b[1;34m(keyword, count)\u001b[0m\n\u001b[0;32m     17\u001b[0m \u001b[39mtry\u001b[39;00m:\n\u001b[1;32m---> 18\u001b[0m     tweets \u001b[39m=\u001b[39m api\u001b[39m.\u001b[39;49msearch(q\u001b[39m=\u001b[39mkeyword, count\u001b[39m=\u001b[39mcount, tweet_mode\u001b[39m=\u001b[39m\u001b[39m\"\u001b[39m\u001b[39mextended\u001b[39m\u001b[39m\"\u001b[39m)\n\u001b[0;32m     19\u001b[0m \u001b[39mexcept\u001b[39;00m tweepy\u001b[39m.\u001b[39mTweepError \u001b[39mas\u001b[39;00m e:\n",
      "\u001b[1;31mAttributeError\u001b[0m: 'API' object has no attribute 'search'",
      "\nDuring handling of the above exception, another exception occurred:\n",
      "\u001b[1;31mAttributeError\u001b[0m                            Traceback (most recent call last)",
      "Cell \u001b[1;32mIn[1], line 35\u001b[0m\n\u001b[0;32m     32\u001b[0m keyword \u001b[39m=\u001b[39m \u001b[39m\"\u001b[39m\u001b[39mhotel industry\u001b[39m\u001b[39m\"\u001b[39m\n\u001b[0;32m     33\u001b[0m count \u001b[39m=\u001b[39m \u001b[39m10\u001b[39m\n\u001b[1;32m---> 35\u001b[0m tweets \u001b[39m=\u001b[39m search_tweets(keyword, count)\n\u001b[0;32m     36\u001b[0m display_tweets(tweets)\n",
      "Cell \u001b[1;32mIn[1], line 19\u001b[0m, in \u001b[0;36msearch_tweets\u001b[1;34m(keyword, count)\u001b[0m\n\u001b[0;32m     17\u001b[0m \u001b[39mtry\u001b[39;00m:\n\u001b[0;32m     18\u001b[0m     tweets \u001b[39m=\u001b[39m api\u001b[39m.\u001b[39msearch(q\u001b[39m=\u001b[39mkeyword, count\u001b[39m=\u001b[39mcount, tweet_mode\u001b[39m=\u001b[39m\u001b[39m\"\u001b[39m\u001b[39mextended\u001b[39m\u001b[39m\"\u001b[39m)\n\u001b[1;32m---> 19\u001b[0m \u001b[39mexcept\u001b[39;00m tweepy\u001b[39m.\u001b[39;49mTweepError \u001b[39mas\u001b[39;00m e:\n\u001b[0;32m     20\u001b[0m     \u001b[39mprint\u001b[39m(\u001b[39m\"\u001b[39m\u001b[39mError occurred while searching tweets:\u001b[39m\u001b[39m\"\u001b[39m, \u001b[39mstr\u001b[39m(e))\n\u001b[0;32m     21\u001b[0m \u001b[39mreturn\u001b[39;00m tweets\n",
      "\u001b[1;31mAttributeError\u001b[0m: module 'tweepy' has no attribute 'TweepError'"
     ]
    }
   ],
   "source": [
    "import tweepy\n",
    "\n",
    "def create_api():\n",
    "    consumer_key = \"Yx9qQIivCmEuvYsWTcu1tBrn7\"\n",
    "    consumer_secret = \"MB2QXhbzgbzJhzltDyijX960wk1gxa49SdzxGCHyO1GYKYfKMv\"\n",
    "    access_token = \"1670778074726809600-svEsE7m9Hz6RGlQnUwBFy5xnrKffak\"\n",
    "    access_token_secret = \"TwBxEpWTb29iHP0b45fzxKylqPfxCtvKpCrnAC84VmESk\"\n",
    "\n",
    "    auth = tweepy.OAuthHandler(consumer_key, consumer_secret)\n",
    "    auth.set_access_token(access_token, access_token_secret)\n",
    "    api = tweepy.API(auth, wait_on_rate_limit=True)\n",
    "    return api\n",
    "\n",
    "def search_tweets(keyword, count):\n",
    "    api = create_api()\n",
    "    tweets = []\n",
    "    try:\n",
    "        tweets = api.search(q=keyword, count=count, tweet_mode=\"extended\")\n",
    "    except tweepy.TweepError as e:\n",
    "        print(\"Error occurred while searching tweets:\", str(e))\n",
    "    return tweets\n",
    "\n",
    "def display_tweets(tweets):\n",
    "    for tweet in tweets:\n",
    "        print(\"Tweet ID:\", tweet.id)\n",
    "        print(\"Username:\", tweet.user.screen_name)\n",
    "        print(\"Created at:\", tweet.created_at)\n",
    "        print(\"Text:\", tweet.full_text)\n",
    "        print(\"---------------------\")\n",
    "\n",
    "# Example usage\n",
    "keyword = \"hotel industry\"\n",
    "count = 10\n",
    "\n",
    "tweets = search_tweets(keyword, count)\n",
    "display_tweets(tweets)\n"
   ]
  },
  {
   "cell_type": "code",
   "execution_count": null,
   "metadata": {},
   "outputs": [],
   "source": []
  }
 ],
 "metadata": {
  "kernelspec": {
   "display_name": "base",
   "language": "python",
   "name": "python3"
  },
  "language_info": {
   "codemirror_mode": {
    "name": "ipython",
    "version": 3
   },
   "file_extension": ".py",
   "mimetype": "text/x-python",
   "name": "python",
   "nbconvert_exporter": "python",
   "pygments_lexer": "ipython3",
   "version": "3.10.10"
  },
  "orig_nbformat": 4
 },
 "nbformat": 4,
 "nbformat_minor": 2
}
