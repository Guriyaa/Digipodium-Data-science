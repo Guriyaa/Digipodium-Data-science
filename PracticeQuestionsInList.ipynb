{
 "cells": [
  {
   "cell_type": "code",
   "execution_count": 2,
   "metadata": {},
   "outputs": [
    {
     "name": "stdout",
     "output_type": "stream",
     "text": [
      "[5]\n"
     ]
    }
   ],
   "source": [
    "#a program that creates an empty list and then asks the user to input integers to add to the list. Print the final list.\n",
    "a = []\n",
    "User = int(input( \"pls enter some value\"))\n",
    "print(a) \n",
    "  "
   ]
  },
  {
   "cell_type": "code",
   "execution_count": 3,
   "metadata": {},
   "outputs": [
    {
     "name": "stdout",
     "output_type": "stream",
     "text": [
      "[' marigold', 'Rose', 'lily', 'lotus', 'sunflower']\n"
     ]
    }
   ],
   "source": [
    "# program that creates a list of strings and then sorts the list alphabetically. Print the sorted list.\n",
    "\n",
    "flowers = [ 'Rose', 'lotus','sunflower','lily',' marigold']\n",
    "flowers.sort()\n",
    "print(flowers)"
   ]
  },
  {
   "cell_type": "code",
   "execution_count": 1,
   "metadata": {},
   "outputs": [
    {
     "name": "stdout",
     "output_type": "stream",
     "text": [
      "The integer is not in the list.\n"
     ]
    }
   ],
   "source": [
    "# Write a program that creates a list of integers and then asks the user to input an integer to check if it exists \n",
    "# in the list. Print a message indicating whether the integer is in the list or not.\n",
    "\n",
    "numbers = [1, 2, 3, 4, 5]\n",
    "user_input = int(input(\"Enter an integer: \"))\n",
    "if user_input in numbers:\n",
    "    print(\"The integer is in the list.\")\n",
    "else:\n",
    "    print(\"The integer is not in the list.\")"
   ]
  },
  {
   "cell_type": "code",
   "execution_count": 4,
   "metadata": {},
   "outputs": [
    {
     "name": "stdout",
     "output_type": "stream",
     "text": [
      "The maximum value in the list is: 10\n"
     ]
    }
   ],
   "source": [
    "#Write a program that creates a list of integers and then finds the maximum value in the list. Print the maximum value.\n",
    "numbers = [5, 2, 8, 1, 10]\n",
    "max_value = max(numbers)\n",
    "print(\"The maximum value in the list is:\", max_value)\n"
   ]
  },
  {
   "cell_type": "code",
   "execution_count": 6,
   "metadata": {},
   "outputs": [
    {
     "name": "stdout",
     "output_type": "stream",
     "text": [
      "[9, 3, 4]\n"
     ]
    }
   ],
   "source": [
    "# Write a program that creates two lists of integers and then finds the common elements between those two lists.\n",
    "# Print the common elements.\n",
    "num1 = [ 4,9,7,3,9,5,2]\n",
    "num2 = [ 6,8,9,4,0,3,8]\n",
    "Common_num = list(set(num1) & set(num2))\n",
    "print(Common_num)"
   ]
  },
  {
   "cell_type": "code",
   "execution_count": null,
   "metadata": {},
   "outputs": [],
   "source": [
    "#Write a program that creates a list of strings and then removes all elements that contain a specific substring. \n",
    "#Print the final list.\n"
   ]
  }
 ],
 "metadata": {
  "kernelspec": {
   "display_name": "base",
   "language": "python",
   "name": "python3"
  },
  "language_info": {
   "codemirror_mode": {
    "name": "ipython",
    "version": 3
   },
   "file_extension": ".py",
   "mimetype": "text/x-python",
   "name": "python",
   "nbconvert_exporter": "python",
   "pygments_lexer": "ipython3",
   "version": "3.10.10"
  },
  "orig_nbformat": 4
 },
 "nbformat": 4,
 "nbformat_minor": 2
}
