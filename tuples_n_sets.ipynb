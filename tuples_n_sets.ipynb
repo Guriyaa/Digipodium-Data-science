{
 "cells": [
  {
   "attachments": {},
   "cell_type": "markdown",
   "metadata": {},
   "source": [
    "- ### tuple\n",
    "    - python default sequential data structure\n",
    "    - indexed, ordered, heterogeneous\n",
    "    - 'immutable'\n",
    "    - represented by '( )'\n",
    "    - tuple is faster\n",
    "    - tuple( ) convert any sequence to tuple\n",
    "    Only two functions \n",
    "       - count()\n",
    "       - index()\n",
    "\n",
    "-### set\n",
    "    - unordered, unindexed, mutable\n",
    "    - unique elements only\n",
    "    - can store only immutable elements\n",
    "    - represented by { }\n",
    "    - set() convert any sequence to set\n",
    "    \n"
   ]
  },
  {
   "cell_type": "code",
   "execution_count": 1,
   "metadata": {},
   "outputs": [
    {
     "name": "stdout",
     "output_type": "stream",
     "text": [
      "(1, 2, 3)\n",
      "<class 'tuple'>\n"
     ]
    }
   ],
   "source": [
    "#tuple\n",
    "x = (1,2,3)\n",
    "print(x)\n",
    "print(type(x))\n"
   ]
  },
  {
   "cell_type": "code",
   "execution_count": 4,
   "metadata": {},
   "outputs": [
    {
     "name": "stdout",
     "output_type": "stream",
     "text": [
      "(12, 13, 14)\n",
      "<class 'tuple'>\n"
     ]
    }
   ],
   "source": [
    "#packing\n",
    "a = 12,13,14\n",
    "print(a)\n",
    "print(type(a))"
   ]
  },
  {
   "cell_type": "code",
   "execution_count": 5,
   "metadata": {},
   "outputs": [
    {
     "name": "stdout",
     "output_type": "stream",
     "text": [
      "(13,)\n",
      "<class 'tuple'>\n"
     ]
    }
   ],
   "source": [
    "# single element tuple\n",
    "b = (13,)\n",
    "print(b)\n",
    "print(type(b))"
   ]
  },
  {
   "cell_type": "code",
   "execution_count": 7,
   "metadata": {},
   "outputs": [
    {
     "name": "stdout",
     "output_type": "stream",
     "text": [
      "12 13 14\n"
     ]
    }
   ],
   "source": [
    "#tuple unpacking\n",
    "x1,x2,x3 = a\n",
    "print(x1,x2,x3)"
   ]
  },
  {
   "cell_type": "code",
   "execution_count": 9,
   "metadata": {},
   "outputs": [
    {
     "name": "stdout",
     "output_type": "stream",
     "text": [
      "1 [2, 3, 3, 4, 5, 5, 4, 46, 78] 43\n"
     ]
    }
   ],
   "source": [
    "a = (1,2,3,3,4,5,5,4,46,78,43)\n",
    "a1,*a2,a3 = a\n",
    "print(a1,a2,a3)"
   ]
  },
  {
   "cell_type": "code",
   "execution_count": 10,
   "metadata": {},
   "outputs": [
    {
     "data": {
      "text/plain": [
       "1"
      ]
     },
     "execution_count": 10,
     "metadata": {},
     "output_type": "execute_result"
    }
   ],
   "source": [
    "a[0]"
   ]
  },
  {
   "cell_type": "code",
   "execution_count": 11,
   "metadata": {},
   "outputs": [
    {
     "data": {
      "text/plain": [
       "(1, 2, 3, 3)"
      ]
     },
     "execution_count": 11,
     "metadata": {},
     "output_type": "execute_result"
    }
   ],
   "source": [
    "a[:4]"
   ]
  },
  {
   "cell_type": "code",
   "execution_count": 12,
   "metadata": {},
   "outputs": [
    {
     "data": {
      "text/plain": [
       "(1, 2, 3, 3, 4, 5)"
      ]
     },
     "execution_count": 12,
     "metadata": {},
     "output_type": "execute_result"
    }
   ],
   "source": [
    "a[:-5]"
   ]
  },
  {
   "cell_type": "code",
   "execution_count": 13,
   "metadata": {},
   "outputs": [
    {
     "name": "stdout",
     "output_type": "stream",
     "text": [
      "1\n",
      "2\n",
      "3\n",
      "3\n",
      "4\n",
      "5\n",
      "5\n",
      "4\n",
      "46\n",
      "78\n",
      "43\n"
     ]
    }
   ],
   "source": [
    "for i in a:\n",
    "    print(i)"
   ]
  },
  {
   "cell_type": "code",
   "execution_count": 16,
   "metadata": {},
   "outputs": [
    {
     "name": "stdout",
     "output_type": "stream",
     "text": [
      "4\n",
      "4\n",
      "4\n",
      "0\n",
      "2\n",
      "5\n"
     ]
    }
   ],
   "source": [
    "x= (1,2,3,1,2,3,1,2,3,1,2,3)\n",
    "print(x.count(1))\n",
    "print(x.count(2))\n",
    "print(x.count(3))\n",
    "print(x.count(5))\n",
    "print(x.index(3))\n",
    "print(x.index(3,5))"
   ]
  },
  {
   "cell_type": "code",
   "execution_count": 18,
   "metadata": {},
   "outputs": [
    {
     "name": "stdout",
     "output_type": "stream",
     "text": [
      "(1, 2, 3)\n",
      "[1, 2, 3]\n"
     ]
    }
   ],
   "source": [
    "a = [1,2,3]\n",
    "at = tuple(a)\n",
    "al = list(at)\n",
    "print(at)\n",
    "print(al)"
   ]
  },
  {
   "cell_type": "code",
   "execution_count": 19,
   "metadata": {},
   "outputs": [
    {
     "name": "stdout",
     "output_type": "stream",
     "text": [
      "{1, 3, 4, 5, 6}\n",
      "<class 'set'>\n"
     ]
    }
   ],
   "source": [
    "# set \n",
    "s = {1,3,4,3,4,5,6,}\n",
    "print(s)\n",
    "print(type(s))"
   ]
  },
  {
   "cell_type": "code",
   "execution_count": 20,
   "metadata": {},
   "outputs": [
    {
     "name": "stdout",
     "output_type": "stream",
     "text": [
      "set()\n",
      "<class 'set'>\n"
     ]
    }
   ],
   "source": [
    "s1 = set()# empty set\n",
    "print(s1)\n",
    "print(type(s1))"
   ]
  },
  {
   "cell_type": "code",
   "execution_count": 22,
   "metadata": {},
   "outputs": [
    {
     "name": "stdout",
     "output_type": "stream",
     "text": [
      "{3, 5, 6, 45, 'all', 'defaiult', 89, 90}\n"
     ]
    }
   ],
   "source": [
    "s1.add(3)\n",
    "s1.add(45)\n",
    "s1.add(90)\n",
    "s1.add('all')\n",
    "s1.add('defaiult')\n",
    "s1.add(89)\n",
    "print(s1)"
   ]
  },
  {
   "cell_type": "code",
   "execution_count": 23,
   "metadata": {},
   "outputs": [
    {
     "name": "stdout",
     "output_type": "stream",
     "text": [
      "{3, 5, 6, 45, 'all', 'defaiult', 90}\n"
     ]
    }
   ],
   "source": [
    "s1.discard(89)\n",
    "print(s1)"
   ]
  },
  {
   "cell_type": "code",
   "execution_count": 24,
   "metadata": {},
   "outputs": [
    {
     "name": "stdout",
     "output_type": "stream",
     "text": [
      "3\n",
      "5\n",
      "6\n",
      "45\n",
      "all\n",
      "defaiult\n",
      "90\n"
     ]
    }
   ],
   "source": [
    "for i  in s1:\n",
    "    print(i)"
   ]
  },
  {
   "cell_type": "code",
   "execution_count": 25,
   "metadata": {},
   "outputs": [],
   "source": [
    "# set operations\n",
    "group1 = { 'Apple','Banana','Grapes','pineapple','cherry','melon'}\n",
    "group2 = { 'Apple','avacado','Grapes','Pineapple','cherry','Watermelon','kiwi'}"
   ]
  },
  {
   "cell_type": "code",
   "execution_count": 26,
   "metadata": {},
   "outputs": [
    {
     "name": "stdout",
     "output_type": "stream",
     "text": [
      "{'cherry', 'Pineapple', 'Grapes', 'Watermelon', 'pineapple', 'melon', 'kiwi', 'Apple', 'Banana', 'avacado'}\n"
     ]
    }
   ],
   "source": [
    "print(group1 | group2)"
   ]
  },
  {
   "cell_type": "code",
   "execution_count": 27,
   "metadata": {},
   "outputs": [
    {
     "name": "stdout",
     "output_type": "stream",
     "text": [
      "{'cherry', 'Pineapple', 'Grapes', 'Watermelon', 'pineapple', 'melon', 'kiwi', 'Apple', 'Banana', 'avacado'}\n"
     ]
    }
   ],
   "source": [
    "print(group1.union(group2))"
   ]
  },
  {
   "cell_type": "code",
   "execution_count": 28,
   "metadata": {},
   "outputs": [
    {
     "name": "stdout",
     "output_type": "stream",
     "text": [
      "{'Apple', 'Grapes', 'cherry'}\n"
     ]
    }
   ],
   "source": [
    "print(group1 & group2)"
   ]
  },
  {
   "cell_type": "code",
   "execution_count": 29,
   "metadata": {},
   "outputs": [
    {
     "name": "stdout",
     "output_type": "stream",
     "text": [
      "{'Apple', 'Grapes', 'cherry'}\n"
     ]
    }
   ],
   "source": [
    "print(group1.intersection(group2))"
   ]
  },
  {
   "cell_type": "code",
   "execution_count": 30,
   "metadata": {},
   "outputs": [
    {
     "name": "stdout",
     "output_type": "stream",
     "text": [
      "{'Banana', 'pineapple', 'melon'}\n",
      "{'Watermelon', 'avacado', 'kiwi', 'Pineapple'}\n",
      "{'Watermelon', 'avacado', 'kiwi', 'Pineapple'}\n"
     ]
    }
   ],
   "source": [
    "print(group1 - group2)\n",
    "print(group2 - group1)\n",
    "print(group2.difference(group1))\n",
    "\n"
   ]
  },
  {
   "cell_type": "code",
   "execution_count": 32,
   "metadata": {},
   "outputs": [
    {
     "name": "stdout",
     "output_type": "stream",
     "text": [
      "{'Watermelon', 'pineapple', 'kiwi', 'Banana', 'avacado', 'Pineapple', 'melon'}\n",
      "{'Watermelon', 'pineapple', 'kiwi', 'Banana', 'avacado', 'Pineapple', 'melon'}\n"
     ]
    }
   ],
   "source": [
    "# symmetric difference\n",
    "print(group1 ^ group2)\n",
    "print(group1.symmetric_difference(group2))"
   ]
  },
  {
   "attachments": {},
   "cell_type": "markdown",
   "metadata": {},
   "source": [
    "# task\n",
    "  - create a list called reports that will hold reports of 7 students\n",
    "  - each student will have a name and marks in 3 subjects\n",
    "  - use for loop to display the report of each student"
   ]
  },
  {
   "cell_type": "code",
   "execution_count": 40,
   "metadata": {},
   "outputs": [],
   "source": [
    "reports =[ \n",
    "    ['Rohan',\n",
    "[    ['math', 90],\n",
    "    [ 'science', 95],\n",
    "    [ 'English', 85],\n",
    "\n",
    "]\n",
    "]]"
   ]
  },
  {
   "cell_type": "code",
   "execution_count": 41,
   "metadata": {},
   "outputs": [
    {
     "name": "stdout",
     "output_type": "stream",
     "text": [
      "Rohan\n",
      "math 90\n",
      "science 95\n",
      "English 85\n"
     ]
    }
   ],
   "source": [
    "for Rohan in reports:\n",
    "    for detail in Rohan:\n",
    "        if isinstance(detail, str):\n",
    "            print(detail)\n",
    "\n",
    "        if isinstance(detail, list):\n",
    "            for subject in detail:\n",
    "                print(subject[0],subject[1])\n",
    "\n",
    "\n"
   ]
  },
  {
   "cell_type": "code",
   "execution_count": null,
   "metadata": {},
   "outputs": [],
   "source": []
  }
 ],
 "metadata": {
  "kernelspec": {
   "display_name": "base",
   "language": "python",
   "name": "python3"
  },
  "language_info": {
   "codemirror_mode": {
    "name": "ipython",
    "version": 3
   },
   "file_extension": ".py",
   "mimetype": "text/x-python",
   "name": "python",
   "nbconvert_exporter": "python",
   "pygments_lexer": "ipython3",
   "version": "3.10.10"
  },
  "orig_nbformat": 4
 },
 "nbformat": 4,
 "nbformat_minor": 2
}
